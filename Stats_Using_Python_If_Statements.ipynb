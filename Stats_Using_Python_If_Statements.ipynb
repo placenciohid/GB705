{
  "nbformat": 4,
  "nbformat_minor": 0,
  "metadata": {
    "colab": {
      "name": "Stats Using Python - If Statements.ipynb",
      "provenance": [],
      "include_colab_link": true
    },
    "kernelspec": {
      "name": "python3",
      "display_name": "Python 3"
    },
    "language_info": {
      "name": "python"
    }
  },
  "cells": [
    {
      "cell_type": "markdown",
      "metadata": {
        "id": "view-in-github",
        "colab_type": "text"
      },
      "source": [
        "<a href=\"https://colab.research.google.com/github/placenciohid/GB705/blob/main/Stats_Using_Python_If_Statements.ipynb\" target=\"_parent\"><img src=\"https://colab.research.google.com/assets/colab-badge.svg\" alt=\"Open In Colab\"/></a>"
      ]
    },
    {
      "cell_type": "markdown",
      "source": [
        " ## Python - If Statements"
      ],
      "metadata": {
        "id": "S7badm8eya9G"
      }
    },
    {
      "cell_type": "code",
      "source": [
        "score = 75\n",
        "\n",
        "if score >= 60:\n",
        "  print(\"You passed.\")"
      ],
      "metadata": {
        "id": "MS-qpyxbpZ8p"
      },
      "execution_count": null,
      "outputs": []
    },
    {
      "cell_type": "code",
      "source": [
        "score = 45\n",
        "\n",
        "if score >= 60:\n",
        "  print(\"You passed.\")\n",
        "else:\n",
        "  print(\"You did not pass.\")"
      ],
      "metadata": {
        "id": "ihJGN2nwpa4e"
      },
      "execution_count": null,
      "outputs": []
    },
    {
      "cell_type": "code",
      "source": [
        "score = 81\n",
        "\n",
        "if score >= 90:\n",
        "  print(\"Your grade is an A.\")\n",
        "elif score >= 80 and score < 90:\n",
        "  print(\"Your grade is a B.\")\n",
        "elif score >= 60 and score < 80:\n",
        "  print(\"You passed.\")\n",
        "else:\n",
        "  print(\"You did not pass.\")"
      ],
      "metadata": {
        "id": "XGPYb8gnvsdo"
      },
      "execution_count": null,
      "outputs": []
    },
    {
      "cell_type": "code",
      "source": [
        "x = 25\n",
        "y = 20\n",
        "z = 30\n",
        "\n",
        "if x < y and x < z:\n",
        "  print(\"x is the lowest number.\")"
      ],
      "metadata": {
        "id": "4SJGd-Imzg6A"
      },
      "execution_count": null,
      "outputs": []
    },
    {
      "cell_type": "code",
      "source": [
        "x = 25\n",
        "y = 20\n",
        "z = 30\n",
        "\n",
        "if x < y or x < z:\n",
        "  print(\"x is a low number.\")"
      ],
      "metadata": {
        "id": "J3_d4PxVzw0p"
      },
      "execution_count": null,
      "outputs": []
    }
  ]
}