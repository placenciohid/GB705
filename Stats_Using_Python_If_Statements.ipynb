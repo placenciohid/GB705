{
  "cells": [
    {
      "cell_type": "markdown",
      "metadata": {
        "colab_type": "text",
        "id": "view-in-github"
      },
      "source": [
        "<a href=\"https://colab.research.google.com/github/placenciohid/GB705/blob/main/Stats_Using_Python_If_Statements.ipynb\" target=\"_parent\"><img src=\"https://colab.research.google.com/assets/colab-badge.svg\" alt=\"Open In Colab\"/></a>"
      ]
    },
    {
      "cell_type": "markdown",
      "metadata": {
        "id": "S7badm8eya9G"
      },
      "source": [
        " ## Python - If Statements"
      ]
    },
    {
      "cell_type": "code",
      "execution_count": null,
      "metadata": {
        "id": "MS-qpyxbpZ8p"
      },
      "outputs": [],
      "source": [
        "score = 75\n",
        "\n",
        "if score >= 60:\n",
        "  print(\"You passed.\")"
      ]
    },
    {
      "cell_type": "code",
      "execution_count": null,
      "metadata": {
        "id": "ihJGN2nwpa4e"
      },
      "outputs": [],
      "source": [
        "score = 45\n",
        "\n",
        "if score >= 60:\n",
        "  print(\"You passed.\")\n",
        "else:\n",
        "  print(\"You did not pass.\")"
      ]
    },
    {
      "cell_type": "code",
      "execution_count": null,
      "metadata": {
        "id": "XGPYb8gnvsdo"
      },
      "outputs": [],
      "source": [
        "score = 81\n",
        "\n",
        "if score >= 90:\n",
        "  print(\"Your grade is an A.\")\n",
        "elif score >= 80 and score < 90:\n",
        "  print(\"Your grade is a B.\")\n",
        "elif score >= 60 and score < 80:\n",
        "  print(\"You passed.\")\n",
        "else:\n",
        "  print(\"You did not pass.\")"
      ]
    },
    {
      "cell_type": "code",
      "execution_count": null,
      "metadata": {
        "id": "4SJGd-Imzg6A"
      },
      "outputs": [],
      "source": [
        "x = 25\n",
        "y = 20\n",
        "z = 30\n",
        "\n",
        "if x < y and x < z:\n",
        "  print(\"x is the lowest number.\")"
      ]
    },
    {
      "cell_type": "code",
      "execution_count": null,
      "metadata": {
        "id": "J3_d4PxVzw0p"
      },
      "outputs": [],
      "source": [
        "x = 25\n",
        "y = 20\n",
        "z = 30\n",
        "\n",
        "if x < y or x < z:\n",
        "  print(\"x is a low number.\")"
      ]
    },
    {
      "cell_type": "code",
      "execution_count": 2,
      "metadata": {},
      "outputs": [
        {
          "name": "stdout",
          "output_type": "stream",
          "text": [
            "We failed!\n"
          ]
        }
      ],
      "source": [
        "revenue = 100\n",
        "expenses = 110\n",
        "profit = revenue - expenses\n",
        "\n",
        "if profit >= 0:\n",
        "    if profit > 25:\n",
        "        print(\"We are rich!\")\n",
        "    else:\n",
        "        print(\"We did okay\")\n",
        "else:\n",
        "    print(\"We failed!\") \n",
        "                   "
      ]
    },
    {
      "cell_type": "code",
      "execution_count": 3,
      "metadata": {},
      "outputs": [
        {
          "name": "stdout",
          "output_type": "stream",
          "text": [
            "warmer\n"
          ]
        }
      ],
      "source": [
        "temp_1 = 86\n",
        "temp_2 = 79\n",
        "temp_3 = 82\n",
        "temp_avg = (temp_1 + temp_2 + temp_3) / 3\n",
        "\n",
        "if temp_1 < temp_avg:\n",
        "    print(\"cooler\")\n",
        "elif temp_1 == temp_avg:\n",
        "    print(\"average\")\n",
        "else:\n",
        "    print(\"warmer\")    "
      ]
    }
  ],
  "metadata": {
    "colab": {
      "include_colab_link": true,
      "name": "Stats Using Python - If Statements.ipynb",
      "provenance": []
    },
    "kernelspec": {
      "display_name": "Python 3.10.5 64-bit",
      "language": "python",
      "name": "python3"
    },
    "language_info": {
      "codemirror_mode": {
        "name": "ipython",
        "version": 3
      },
      "file_extension": ".py",
      "mimetype": "text/x-python",
      "name": "python",
      "nbconvert_exporter": "python",
      "pygments_lexer": "ipython3",
      "version": "3.10.5"
    },
    "vscode": {
      "interpreter": {
        "hash": "75c7325c0caecc2d82c8a4e534cbb5ce82d278e087a13a7861173b66f0f67f74"
      }
    }
  },
  "nbformat": 4,
  "nbformat_minor": 0
}
