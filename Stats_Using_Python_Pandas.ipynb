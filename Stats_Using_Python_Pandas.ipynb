{
  "cells": [
    {
      "cell_type": "markdown",
      "metadata": {
        "colab_type": "text",
        "id": "view-in-github"
      },
      "source": [
        "<a href=\"https://colab.research.google.com/github/placenciohid/GB705/blob/main/Stats_Using_Python_Pandas.ipynb\" target=\"_parent\"><img src=\"https://colab.research.google.com/assets/colab-badge.svg\" alt=\"Open In Colab\"/></a>"
      ]
    },
    {
      "cell_type": "markdown",
      "metadata": {
        "id": "w6ksaXivSCJM"
      },
      "source": [
        "# Pandas - Example\n",
        "\n",
        "Pandas is a popular Python library for data manipulation and analysis.  The official documentation can be found [here](https://pandas.pydata.org/docs/user_guide/index.html)."
      ]
    },
    {
      "cell_type": "code",
      "execution_count": 35,
      "metadata": {
        "id": "FojExZocvinK"
      },
      "outputs": [],
      "source": [
        "# Load the pandas library.\n",
        "import pandas as pd\n",
        "import numpy as np"
      ]
    },
    {
      "cell_type": "code",
      "execution_count": 36,
      "metadata": {
        "id": "wi6wHT1UHBfl"
      },
      "outputs": [],
      "source": [
        "# Read the CSV file into a pandas dataframe.\n",
        "url = 'https://bit.ly/homes_data'\n",
        "df_homes = pd.read_csv(url)"
      ]
    },
    {
      "cell_type": "code",
      "execution_count": 37,
      "metadata": {
        "colab": {
          "base_uri": "https://localhost:8080/"
        },
        "id": "5XSUigLP3iRK",
        "outputId": "e0f37996-6bbc-4bda-9f42-45e569b06543"
      },
      "outputs": [
        {
          "data": {
            "text/plain": [
              "(67638, 11)"
            ]
          },
          "execution_count": 37,
          "metadata": {},
          "output_type": "execute_result"
        }
      ],
      "source": [
        "# Check the dimensions of the dataset.\n",
        "df_homes.shape"
      ]
    },
    {
      "cell_type": "code",
      "execution_count": 38,
      "metadata": {
        "colab": {
          "base_uri": "https://localhost:8080/"
        },
        "id": "orxR488QxJRH",
        "outputId": "41154a76-be7f-47e5-83fe-3d673db152a5"
      },
      "outputs": [
        {
          "name": "stdout",
          "output_type": "stream",
          "text": [
            "<class 'pandas.core.frame.DataFrame'>\n",
            "RangeIndex: 67638 entries, 0 to 67637\n",
            "Data columns (total 11 columns):\n",
            " #   Column        Non-Null Count  Dtype \n",
            "---  ------        --------------  ----- \n",
            " 0   id            67638 non-null  int64 \n",
            " 1   borough       67638 non-null  int64 \n",
            " 2   neighborhood  67638 non-null  object\n",
            " 3   block         67638 non-null  int64 \n",
            " 4   lot           67638 non-null  int64 \n",
            " 5   easement      67638 non-null  object\n",
            " 6   units         67638 non-null  int64 \n",
            " 7   land_sqft     67638 non-null  object\n",
            " 8   gross_sqft    67638 non-null  object\n",
            " 9   year_built    67638 non-null  int64 \n",
            " 10  sale_price    67638 non-null  object\n",
            "dtypes: int64(6), object(5)\n",
            "memory usage: 5.7+ MB\n"
          ]
        }
      ],
      "source": [
        "# List the columns and their data types.\n",
        "df_homes.info()"
      ]
    },
    {
      "cell_type": "code",
      "execution_count": 39,
      "metadata": {
        "colab": {
          "base_uri": "https://localhost:8080/",
          "height": 250
        },
        "id": "-4VmHZcUwjdW",
        "outputId": "c7645a80-048c-44ff-ded1-d9741e8b891e"
      },
      "outputs": [
        {
          "data": {
            "text/html": [
              "<div>\n",
              "<style scoped>\n",
              "    .dataframe tbody tr th:only-of-type {\n",
              "        vertical-align: middle;\n",
              "    }\n",
              "\n",
              "    .dataframe tbody tr th {\n",
              "        vertical-align: top;\n",
              "    }\n",
              "\n",
              "    .dataframe thead th {\n",
              "        text-align: right;\n",
              "    }\n",
              "</style>\n",
              "<table border=\"1\" class=\"dataframe\">\n",
              "  <thead>\n",
              "    <tr style=\"text-align: right;\">\n",
              "      <th></th>\n",
              "      <th>id</th>\n",
              "      <th>borough</th>\n",
              "      <th>neighborhood</th>\n",
              "      <th>block</th>\n",
              "      <th>lot</th>\n",
              "      <th>easement</th>\n",
              "      <th>units</th>\n",
              "      <th>land_sqft</th>\n",
              "      <th>gross_sqft</th>\n",
              "      <th>year_built</th>\n",
              "      <th>sale_price</th>\n",
              "    </tr>\n",
              "  </thead>\n",
              "  <tbody>\n",
              "    <tr>\n",
              "      <th>0</th>\n",
              "      <td>0</td>\n",
              "      <td>1</td>\n",
              "      <td>ALPHABET CITY</td>\n",
              "      <td>392</td>\n",
              "      <td>6</td>\n",
              "      <td></td>\n",
              "      <td>5</td>\n",
              "      <td>1633</td>\n",
              "      <td>6440</td>\n",
              "      <td>1900</td>\n",
              "      <td>6625000</td>\n",
              "    </tr>\n",
              "    <tr>\n",
              "      <th>1</th>\n",
              "      <td>1</td>\n",
              "      <td>1</td>\n",
              "      <td>ALPHABET CITY</td>\n",
              "      <td>399</td>\n",
              "      <td>26</td>\n",
              "      <td></td>\n",
              "      <td>31</td>\n",
              "      <td>4616</td>\n",
              "      <td>18690</td>\n",
              "      <td>1900</td>\n",
              "      <td>-</td>\n",
              "    </tr>\n",
              "    <tr>\n",
              "      <th>2</th>\n",
              "      <td>2</td>\n",
              "      <td>1</td>\n",
              "      <td>ALPHABET CITY</td>\n",
              "      <td>399</td>\n",
              "      <td>39</td>\n",
              "      <td></td>\n",
              "      <td>17</td>\n",
              "      <td>2212</td>\n",
              "      <td>7803</td>\n",
              "      <td>1900</td>\n",
              "      <td>-</td>\n",
              "    </tr>\n",
              "    <tr>\n",
              "      <th>3</th>\n",
              "      <td>4</td>\n",
              "      <td>1</td>\n",
              "      <td>ALPHABET CITY</td>\n",
              "      <td>404</td>\n",
              "      <td>55</td>\n",
              "      <td></td>\n",
              "      <td>6</td>\n",
              "      <td>2369</td>\n",
              "      <td>4615</td>\n",
              "      <td>1900</td>\n",
              "      <td>8000000</td>\n",
              "    </tr>\n",
              "    <tr>\n",
              "      <th>4</th>\n",
              "      <td>5</td>\n",
              "      <td>1</td>\n",
              "      <td>ALPHABET CITY</td>\n",
              "      <td>405</td>\n",
              "      <td>16</td>\n",
              "      <td></td>\n",
              "      <td>20</td>\n",
              "      <td>2581</td>\n",
              "      <td>9730</td>\n",
              "      <td>1900</td>\n",
              "      <td>-</td>\n",
              "    </tr>\n",
              "  </tbody>\n",
              "</table>\n",
              "</div>"
            ],
            "text/plain": [
              "   id  borough   neighborhood  block  lot easement  units land_sqft  \\\n",
              "0   0        1  ALPHABET CITY    392    6               5      1633   \n",
              "1   1        1  ALPHABET CITY    399   26              31      4616   \n",
              "2   2        1  ALPHABET CITY    399   39              17      2212   \n",
              "3   4        1  ALPHABET CITY    404   55               6      2369   \n",
              "4   5        1  ALPHABET CITY    405   16              20      2581   \n",
              "\n",
              "  gross_sqft  year_built sale_price  \n",
              "0       6440        1900    6625000  \n",
              "1      18690        1900        -    \n",
              "2       7803        1900        -    \n",
              "3       4615        1900    8000000  \n",
              "4       9730        1900        -    "
            ]
          },
          "execution_count": 39,
          "metadata": {},
          "output_type": "execute_result"
        }
      ],
      "source": [
        "# Preview the first few records.\n",
        "df_homes.head()"
      ]
    },
    {
      "cell_type": "code",
      "execution_count": 40,
      "metadata": {
        "colab": {
          "base_uri": "https://localhost:8080/",
          "height": 522
        },
        "id": "BhHMZF5j74_1",
        "outputId": "541d3c69-117a-4e45-b5b7-e06d3ce891b9"
      },
      "outputs": [
        {
          "data": {
            "text/html": [
              "<div>\n",
              "<style scoped>\n",
              "    .dataframe tbody tr th:only-of-type {\n",
              "        vertical-align: middle;\n",
              "    }\n",
              "\n",
              "    .dataframe tbody tr th {\n",
              "        vertical-align: top;\n",
              "    }\n",
              "\n",
              "    .dataframe thead th {\n",
              "        text-align: right;\n",
              "    }\n",
              "</style>\n",
              "<table border=\"1\" class=\"dataframe\">\n",
              "  <thead>\n",
              "    <tr style=\"text-align: right;\">\n",
              "      <th></th>\n",
              "      <th>id</th>\n",
              "      <th>borough</th>\n",
              "      <th>neighborhood</th>\n",
              "      <th>block</th>\n",
              "      <th>lot</th>\n",
              "      <th>easement</th>\n",
              "      <th>units</th>\n",
              "      <th>land_sqft</th>\n",
              "      <th>gross_sqft</th>\n",
              "      <th>year_built</th>\n",
              "      <th>sale_price</th>\n",
              "    </tr>\n",
              "  </thead>\n",
              "  <tbody>\n",
              "    <tr>\n",
              "      <th>51859</th>\n",
              "      <td>64831</td>\n",
              "      <td>4</td>\n",
              "      <td>JAMAICA</td>\n",
              "      <td>9827</td>\n",
              "      <td>39</td>\n",
              "      <td></td>\n",
              "      <td>2261</td>\n",
              "      <td>2940</td>\n",
              "      <td>4522</td>\n",
              "      <td>1920</td>\n",
              "      <td>315000</td>\n",
              "    </tr>\n",
              "    <tr>\n",
              "      <th>49191</th>\n",
              "      <td>61461</td>\n",
              "      <td>4</td>\n",
              "      <td>GLEN OAKS</td>\n",
              "      <td>8489</td>\n",
              "      <td>1</td>\n",
              "      <td></td>\n",
              "      <td>1866</td>\n",
              "      <td>4228300</td>\n",
              "      <td>3750565</td>\n",
              "      <td>1972</td>\n",
              "      <td>-</td>\n",
              "    </tr>\n",
              "    <tr>\n",
              "      <th>49190</th>\n",
              "      <td>61460</td>\n",
              "      <td>4</td>\n",
              "      <td>GLEN OAKS</td>\n",
              "      <td>8489</td>\n",
              "      <td>1</td>\n",
              "      <td></td>\n",
              "      <td>1866</td>\n",
              "      <td>4228300</td>\n",
              "      <td>3750565</td>\n",
              "      <td>1972</td>\n",
              "      <td>525000</td>\n",
              "    </tr>\n",
              "    <tr>\n",
              "      <th>19331</th>\n",
              "      <td>24035</td>\n",
              "      <td>2</td>\n",
              "      <td>SOUNDVIEW</td>\n",
              "      <td>3600</td>\n",
              "      <td>4</td>\n",
              "      <td></td>\n",
              "      <td>955</td>\n",
              "      <td>679000</td>\n",
              "      <td>1021752</td>\n",
              "      <td>1977</td>\n",
              "      <td>70936348</td>\n",
              "    </tr>\n",
              "    <tr>\n",
              "      <th>5111</th>\n",
              "      <td>6332</td>\n",
              "      <td>1</td>\n",
              "      <td>KIPS BAY</td>\n",
              "      <td>934</td>\n",
              "      <td>1</td>\n",
              "      <td></td>\n",
              "      <td>902</td>\n",
              "      <td>141836</td>\n",
              "      <td>829024</td>\n",
              "      <td>1975</td>\n",
              "      <td>620000000</td>\n",
              "    </tr>\n",
              "    <tr>\n",
              "      <th>...</th>\n",
              "      <td>...</td>\n",
              "      <td>...</td>\n",
              "      <td>...</td>\n",
              "      <td>...</td>\n",
              "      <td>...</td>\n",
              "      <td>...</td>\n",
              "      <td>...</td>\n",
              "      <td>...</td>\n",
              "      <td>...</td>\n",
              "      <td>...</td>\n",
              "      <td>...</td>\n",
              "    </tr>\n",
              "    <tr>\n",
              "      <th>18647</th>\n",
              "      <td>23202</td>\n",
              "      <td>2</td>\n",
              "      <td>RIVERDALE</td>\n",
              "      <td>5953</td>\n",
              "      <td>230</td>\n",
              "      <td></td>\n",
              "      <td>0</td>\n",
              "      <td>0</td>\n",
              "      <td>0</td>\n",
              "      <td>1961</td>\n",
              "      <td>385000</td>\n",
              "    </tr>\n",
              "    <tr>\n",
              "      <th>18648</th>\n",
              "      <td>23203</td>\n",
              "      <td>2</td>\n",
              "      <td>RIVERDALE</td>\n",
              "      <td>5953</td>\n",
              "      <td>230</td>\n",
              "      <td></td>\n",
              "      <td>0</td>\n",
              "      <td>0</td>\n",
              "      <td>0</td>\n",
              "      <td>1961</td>\n",
              "      <td>229000</td>\n",
              "    </tr>\n",
              "    <tr>\n",
              "      <th>18649</th>\n",
              "      <td>23204</td>\n",
              "      <td>2</td>\n",
              "      <td>RIVERDALE</td>\n",
              "      <td>5953</td>\n",
              "      <td>230</td>\n",
              "      <td></td>\n",
              "      <td>0</td>\n",
              "      <td>0</td>\n",
              "      <td>0</td>\n",
              "      <td>1961</td>\n",
              "      <td>255000</td>\n",
              "    </tr>\n",
              "    <tr>\n",
              "      <th>18650</th>\n",
              "      <td>23205</td>\n",
              "      <td>2</td>\n",
              "      <td>RIVERDALE</td>\n",
              "      <td>5953</td>\n",
              "      <td>230</td>\n",
              "      <td></td>\n",
              "      <td>0</td>\n",
              "      <td>0</td>\n",
              "      <td>0</td>\n",
              "      <td>1961</td>\n",
              "      <td>0</td>\n",
              "    </tr>\n",
              "    <tr>\n",
              "      <th>2890</th>\n",
              "      <td>3611</td>\n",
              "      <td>1</td>\n",
              "      <td>GREENWICH VILLAGE-CENTRAL</td>\n",
              "      <td>532</td>\n",
              "      <td>20</td>\n",
              "      <td></td>\n",
              "      <td>0</td>\n",
              "      <td>-</td>\n",
              "      <td>-</td>\n",
              "      <td>1930</td>\n",
              "      <td>937000</td>\n",
              "    </tr>\n",
              "  </tbody>\n",
              "</table>\n",
              "<p>67638 rows × 11 columns</p>\n",
              "</div>"
            ],
            "text/plain": [
              "          id  borough               neighborhood  block  lot easement  units  \\\n",
              "51859  64831        4                    JAMAICA   9827   39            2261   \n",
              "49191  61461        4                  GLEN OAKS   8489    1            1866   \n",
              "49190  61460        4                  GLEN OAKS   8489    1            1866   \n",
              "19331  24035        2                  SOUNDVIEW   3600    4             955   \n",
              "5111    6332        1                   KIPS BAY    934    1             902   \n",
              "...      ...      ...                        ...    ...  ...      ...    ...   \n",
              "18647  23202        2                  RIVERDALE   5953  230               0   \n",
              "18648  23203        2                  RIVERDALE   5953  230               0   \n",
              "18649  23204        2                  RIVERDALE   5953  230               0   \n",
              "18650  23205        2                  RIVERDALE   5953  230               0   \n",
              "2890    3611        1  GREENWICH VILLAGE-CENTRAL    532   20               0   \n",
              "\n",
              "      land_sqft gross_sqft  year_built sale_price  \n",
              "51859      2940       4522        1920     315000  \n",
              "49191   4228300    3750565        1972        -    \n",
              "49190   4228300    3750565        1972     525000  \n",
              "19331    679000    1021752        1977   70936348  \n",
              "5111     141836     829024        1975  620000000  \n",
              "...         ...        ...         ...        ...  \n",
              "18647         0          0        1961     385000  \n",
              "18648         0          0        1961     229000  \n",
              "18649         0          0        1961     255000  \n",
              "18650         0          0        1961          0  \n",
              "2890        -          -          1930     937000  \n",
              "\n",
              "[67638 rows x 11 columns]"
            ]
          },
          "execution_count": 40,
          "metadata": {},
          "output_type": "execute_result"
        }
      ],
      "source": [
        "# Sort values in the data frame.\n",
        "df_homes.sort_values('units', ascending=False)"
      ]
    },
    {
      "cell_type": "code",
      "execution_count": 41,
      "metadata": {
        "colab": {
          "base_uri": "https://localhost:8080/",
          "height": 250
        },
        "id": "iumgwfG7UO1b",
        "outputId": "f5ebe67b-7e4e-47ff-c24d-3bb118f4daa6"
      },
      "outputs": [
        {
          "data": {
            "text/html": [
              "<div>\n",
              "<style scoped>\n",
              "    .dataframe tbody tr th:only-of-type {\n",
              "        vertical-align: middle;\n",
              "    }\n",
              "\n",
              "    .dataframe tbody tr th {\n",
              "        vertical-align: top;\n",
              "    }\n",
              "\n",
              "    .dataframe thead th {\n",
              "        text-align: right;\n",
              "    }\n",
              "</style>\n",
              "<table border=\"1\" class=\"dataframe\">\n",
              "  <thead>\n",
              "    <tr style=\"text-align: right;\">\n",
              "      <th></th>\n",
              "      <th>id</th>\n",
              "      <th>borough</th>\n",
              "      <th>neighborhood</th>\n",
              "      <th>block</th>\n",
              "      <th>lot</th>\n",
              "      <th>easement</th>\n",
              "      <th>units</th>\n",
              "      <th>land_sqft</th>\n",
              "      <th>gross_sqft</th>\n",
              "      <th>year_built</th>\n",
              "      <th>sale_price</th>\n",
              "    </tr>\n",
              "  </thead>\n",
              "  <tbody>\n",
              "    <tr>\n",
              "      <th>5</th>\n",
              "      <td>6</td>\n",
              "      <td>1</td>\n",
              "      <td>ALPHABET CITY</td>\n",
              "      <td>406</td>\n",
              "      <td>32</td>\n",
              "      <td></td>\n",
              "      <td>8</td>\n",
              "      <td>1750</td>\n",
              "      <td>4226</td>\n",
              "      <td>1920</td>\n",
              "      <td>3192840</td>\n",
              "    </tr>\n",
              "    <tr>\n",
              "      <th>6</th>\n",
              "      <td>7</td>\n",
              "      <td>1</td>\n",
              "      <td>ALPHABET CITY</td>\n",
              "      <td>407</td>\n",
              "      <td>18</td>\n",
              "      <td></td>\n",
              "      <td>46</td>\n",
              "      <td>5163</td>\n",
              "      <td>21007</td>\n",
              "      <td>1900</td>\n",
              "      <td>-</td>\n",
              "    </tr>\n",
              "    <tr>\n",
              "      <th>7</th>\n",
              "      <td>9</td>\n",
              "      <td>1</td>\n",
              "      <td>ALPHABET CITY</td>\n",
              "      <td>387</td>\n",
              "      <td>153</td>\n",
              "      <td></td>\n",
              "      <td>24</td>\n",
              "      <td>4489</td>\n",
              "      <td>18523</td>\n",
              "      <td>1920</td>\n",
              "      <td>16232000</td>\n",
              "    </tr>\n",
              "    <tr>\n",
              "      <th>8</th>\n",
              "      <td>10</td>\n",
              "      <td>1</td>\n",
              "      <td>ALPHABET CITY</td>\n",
              "      <td>394</td>\n",
              "      <td>44</td>\n",
              "      <td></td>\n",
              "      <td>34</td>\n",
              "      <td>4295</td>\n",
              "      <td>21328</td>\n",
              "      <td>1910</td>\n",
              "      <td>-</td>\n",
              "    </tr>\n",
              "    <tr>\n",
              "      <th>9</th>\n",
              "      <td>12</td>\n",
              "      <td>1</td>\n",
              "      <td>ALPHABET CITY</td>\n",
              "      <td>373</td>\n",
              "      <td>40</td>\n",
              "      <td></td>\n",
              "      <td>0</td>\n",
              "      <td>-</td>\n",
              "      <td>-</td>\n",
              "      <td>1920</td>\n",
              "      <td>1</td>\n",
              "    </tr>\n",
              "  </tbody>\n",
              "</table>\n",
              "</div>"
            ],
            "text/plain": [
              "   id  borough   neighborhood  block  lot easement  units land_sqft  \\\n",
              "5   6        1  ALPHABET CITY    406   32               8      1750   \n",
              "6   7        1  ALPHABET CITY    407   18              46      5163   \n",
              "7   9        1  ALPHABET CITY    387  153              24      4489   \n",
              "8  10        1  ALPHABET CITY    394   44              34      4295   \n",
              "9  12        1  ALPHABET CITY    373   40               0       -     \n",
              "\n",
              "  gross_sqft  year_built sale_price  \n",
              "5       4226        1920    3192840  \n",
              "6      21007        1900        -    \n",
              "7      18523        1920   16232000  \n",
              "8      21328        1910        -    \n",
              "9        -          1920          1  "
            ]
          },
          "execution_count": 41,
          "metadata": {},
          "output_type": "execute_result"
        }
      ],
      "source": [
        "# Select a specific set of rows by position.\n",
        "df_homes.iloc[5:10]"
      ]
    },
    {
      "cell_type": "code",
      "execution_count": 42,
      "metadata": {
        "colab": {
          "base_uri": "https://localhost:8080/",
          "height": 206
        },
        "id": "k94V0DjFYvTF",
        "outputId": "feac007b-80ae-4afa-8f14-4ce2969a722c"
      },
      "outputs": [
        {
          "data": {
            "text/html": [
              "<div>\n",
              "<style scoped>\n",
              "    .dataframe tbody tr th:only-of-type {\n",
              "        vertical-align: middle;\n",
              "    }\n",
              "\n",
              "    .dataframe tbody tr th {\n",
              "        vertical-align: top;\n",
              "    }\n",
              "\n",
              "    .dataframe thead th {\n",
              "        text-align: right;\n",
              "    }\n",
              "</style>\n",
              "<table border=\"1\" class=\"dataframe\">\n",
              "  <thead>\n",
              "    <tr style=\"text-align: right;\">\n",
              "      <th></th>\n",
              "      <th>neighborhood</th>\n",
              "      <th>block</th>\n",
              "      <th>lot</th>\n",
              "    </tr>\n",
              "  </thead>\n",
              "  <tbody>\n",
              "    <tr>\n",
              "      <th>5</th>\n",
              "      <td>ALPHABET CITY</td>\n",
              "      <td>406</td>\n",
              "      <td>32</td>\n",
              "    </tr>\n",
              "    <tr>\n",
              "      <th>6</th>\n",
              "      <td>ALPHABET CITY</td>\n",
              "      <td>407</td>\n",
              "      <td>18</td>\n",
              "    </tr>\n",
              "    <tr>\n",
              "      <th>7</th>\n",
              "      <td>ALPHABET CITY</td>\n",
              "      <td>387</td>\n",
              "      <td>153</td>\n",
              "    </tr>\n",
              "    <tr>\n",
              "      <th>8</th>\n",
              "      <td>ALPHABET CITY</td>\n",
              "      <td>394</td>\n",
              "      <td>44</td>\n",
              "    </tr>\n",
              "    <tr>\n",
              "      <th>9</th>\n",
              "      <td>ALPHABET CITY</td>\n",
              "      <td>373</td>\n",
              "      <td>40</td>\n",
              "    </tr>\n",
              "  </tbody>\n",
              "</table>\n",
              "</div>"
            ],
            "text/plain": [
              "    neighborhood  block  lot\n",
              "5  ALPHABET CITY    406   32\n",
              "6  ALPHABET CITY    407   18\n",
              "7  ALPHABET CITY    387  153\n",
              "8  ALPHABET CITY    394   44\n",
              "9  ALPHABET CITY    373   40"
            ]
          },
          "execution_count": 42,
          "metadata": {},
          "output_type": "execute_result"
        }
      ],
      "source": [
        "# Select a specific set of rows and columns by position.\n",
        "df_homes.iloc[5:10, 2:5]"
      ]
    },
    {
      "cell_type": "code",
      "execution_count": 43,
      "metadata": {
        "colab": {
          "base_uri": "https://localhost:8080/",
          "height": 206
        },
        "id": "RfTP71DPo6dZ",
        "outputId": "c9b06d66-4bb6-4eed-e68f-925864a7be08"
      },
      "outputs": [
        {
          "data": {
            "text/html": [
              "<div>\n",
              "<style scoped>\n",
              "    .dataframe tbody tr th:only-of-type {\n",
              "        vertical-align: middle;\n",
              "    }\n",
              "\n",
              "    .dataframe tbody tr th {\n",
              "        vertical-align: top;\n",
              "    }\n",
              "\n",
              "    .dataframe thead th {\n",
              "        text-align: right;\n",
              "    }\n",
              "</style>\n",
              "<table border=\"1\" class=\"dataframe\">\n",
              "  <thead>\n",
              "    <tr style=\"text-align: right;\">\n",
              "      <th></th>\n",
              "      <th>neighborhood</th>\n",
              "      <th>lot</th>\n",
              "      <th>units</th>\n",
              "    </tr>\n",
              "  </thead>\n",
              "  <tbody>\n",
              "    <tr>\n",
              "      <th>0</th>\n",
              "      <td>ALPHABET CITY</td>\n",
              "      <td>6</td>\n",
              "      <td>5</td>\n",
              "    </tr>\n",
              "    <tr>\n",
              "      <th>1</th>\n",
              "      <td>ALPHABET CITY</td>\n",
              "      <td>26</td>\n",
              "      <td>31</td>\n",
              "    </tr>\n",
              "    <tr>\n",
              "      <th>2</th>\n",
              "      <td>ALPHABET CITY</td>\n",
              "      <td>39</td>\n",
              "      <td>17</td>\n",
              "    </tr>\n",
              "    <tr>\n",
              "      <th>3</th>\n",
              "      <td>ALPHABET CITY</td>\n",
              "      <td>55</td>\n",
              "      <td>6</td>\n",
              "    </tr>\n",
              "    <tr>\n",
              "      <th>4</th>\n",
              "      <td>ALPHABET CITY</td>\n",
              "      <td>16</td>\n",
              "      <td>20</td>\n",
              "    </tr>\n",
              "    <tr>\n",
              "      <th>...</th>\n",
              "      <td>...</td>\n",
              "      <td>...</td>\n",
              "      <td>...</td>\n",
              "    </tr>\n",
              "    <tr>\n",
              "      <th>67633</th>\n",
              "      <td>WOODROW</td>\n",
              "      <td>126</td>\n",
              "      <td>2</td>\n",
              "    </tr>\n",
              "    <tr>\n",
              "      <th>67634</th>\n",
              "      <td>WOODROW</td>\n",
              "      <td>41</td>\n",
              "      <td>2</td>\n",
              "    </tr>\n",
              "    <tr>\n",
              "      <th>67635</th>\n",
              "      <td>WOODROW</td>\n",
              "      <td>34</td>\n",
              "      <td>2</td>\n",
              "    </tr>\n",
              "    <tr>\n",
              "      <th>67636</th>\n",
              "      <td>WOODROW</td>\n",
              "      <td>60</td>\n",
              "      <td>2</td>\n",
              "    </tr>\n",
              "    <tr>\n",
              "      <th>67637</th>\n",
              "      <td>WOODROW</td>\n",
              "      <td>28</td>\n",
              "      <td>7</td>\n",
              "    </tr>\n",
              "  </tbody>\n",
              "</table>\n",
              "<p>67638 rows × 3 columns</p>\n",
              "</div>"
            ],
            "text/plain": [
              "        neighborhood  lot  units\n",
              "0      ALPHABET CITY    6      5\n",
              "1      ALPHABET CITY   26     31\n",
              "2      ALPHABET CITY   39     17\n",
              "3      ALPHABET CITY   55      6\n",
              "4      ALPHABET CITY   16     20\n",
              "...              ...  ...    ...\n",
              "67633        WOODROW  126      2\n",
              "67634        WOODROW   41      2\n",
              "67635        WOODROW   34      2\n",
              "67636        WOODROW   60      2\n",
              "67637        WOODROW   28      7\n",
              "\n",
              "[67638 rows x 3 columns]"
            ]
          },
          "execution_count": 43,
          "metadata": {},
          "output_type": "execute_result"
        }
      ],
      "source": [
        "# Select a specific set of rows and columns by position.\n",
        "df_homes.iloc[:, [2,4,6]]"
      ]
    },
    {
      "cell_type": "code",
      "execution_count": 44,
      "metadata": {
        "colab": {
          "base_uri": "https://localhost:8080/",
          "height": 319
        },
        "id": "PUkxRM19UHzM",
        "outputId": "2947f2f7-eaa9-4782-b4e2-24a60ba8a3be"
      },
      "outputs": [
        {
          "data": {
            "text/html": [
              "<div>\n",
              "<style scoped>\n",
              "    .dataframe tbody tr th:only-of-type {\n",
              "        vertical-align: middle;\n",
              "    }\n",
              "\n",
              "    .dataframe tbody tr th {\n",
              "        vertical-align: top;\n",
              "    }\n",
              "\n",
              "    .dataframe thead th {\n",
              "        text-align: right;\n",
              "    }\n",
              "</style>\n",
              "<table border=\"1\" class=\"dataframe\">\n",
              "  <thead>\n",
              "    <tr style=\"text-align: right;\">\n",
              "      <th></th>\n",
              "      <th>id</th>\n",
              "      <th>borough</th>\n",
              "      <th>neighborhood</th>\n",
              "      <th>block</th>\n",
              "      <th>lot</th>\n",
              "      <th>easement</th>\n",
              "      <th>units</th>\n",
              "      <th>land_sqft</th>\n",
              "      <th>gross_sqft</th>\n",
              "      <th>year_built</th>\n",
              "      <th>sale_price</th>\n",
              "    </tr>\n",
              "  </thead>\n",
              "  <tbody>\n",
              "    <tr>\n",
              "      <th>5111</th>\n",
              "      <td>6332</td>\n",
              "      <td>1</td>\n",
              "      <td>KIPS BAY</td>\n",
              "      <td>934</td>\n",
              "      <td>1</td>\n",
              "      <td></td>\n",
              "      <td>902</td>\n",
              "      <td>141836</td>\n",
              "      <td>829024</td>\n",
              "      <td>1975</td>\n",
              "      <td>620000000</td>\n",
              "    </tr>\n",
              "    <tr>\n",
              "      <th>19331</th>\n",
              "      <td>24035</td>\n",
              "      <td>2</td>\n",
              "      <td>SOUNDVIEW</td>\n",
              "      <td>3600</td>\n",
              "      <td>4</td>\n",
              "      <td></td>\n",
              "      <td>955</td>\n",
              "      <td>679000</td>\n",
              "      <td>1021752</td>\n",
              "      <td>1977</td>\n",
              "      <td>70936348</td>\n",
              "    </tr>\n",
              "    <tr>\n",
              "      <th>27725</th>\n",
              "      <td>34521</td>\n",
              "      <td>3</td>\n",
              "      <td>CROWN HEIGHTS</td>\n",
              "      <td>1156</td>\n",
              "      <td>70</td>\n",
              "      <td></td>\n",
              "      <td>889</td>\n",
              "      <td>24573</td>\n",
              "      <td>49500</td>\n",
              "      <td>1930</td>\n",
              "      <td>0</td>\n",
              "    </tr>\n",
              "    <tr>\n",
              "      <th>49190</th>\n",
              "      <td>61460</td>\n",
              "      <td>4</td>\n",
              "      <td>GLEN OAKS</td>\n",
              "      <td>8489</td>\n",
              "      <td>1</td>\n",
              "      <td></td>\n",
              "      <td>1866</td>\n",
              "      <td>4228300</td>\n",
              "      <td>3750565</td>\n",
              "      <td>1972</td>\n",
              "      <td>525000</td>\n",
              "    </tr>\n",
              "    <tr>\n",
              "      <th>49191</th>\n",
              "      <td>61461</td>\n",
              "      <td>4</td>\n",
              "      <td>GLEN OAKS</td>\n",
              "      <td>8489</td>\n",
              "      <td>1</td>\n",
              "      <td></td>\n",
              "      <td>1866</td>\n",
              "      <td>4228300</td>\n",
              "      <td>3750565</td>\n",
              "      <td>1972</td>\n",
              "      <td>-</td>\n",
              "    </tr>\n",
              "    <tr>\n",
              "      <th>51859</th>\n",
              "      <td>64831</td>\n",
              "      <td>4</td>\n",
              "      <td>JAMAICA</td>\n",
              "      <td>9827</td>\n",
              "      <td>39</td>\n",
              "      <td></td>\n",
              "      <td>2261</td>\n",
              "      <td>2940</td>\n",
              "      <td>4522</td>\n",
              "      <td>1920</td>\n",
              "      <td>315000</td>\n",
              "    </tr>\n",
              "  </tbody>\n",
              "</table>\n",
              "</div>"
            ],
            "text/plain": [
              "          id  borough   neighborhood  block  lot easement  units land_sqft  \\\n",
              "5111    6332        1       KIPS BAY    934    1             902    141836   \n",
              "19331  24035        2      SOUNDVIEW   3600    4             955    679000   \n",
              "27725  34521        3  CROWN HEIGHTS   1156   70             889     24573   \n",
              "49190  61460        4      GLEN OAKS   8489    1            1866   4228300   \n",
              "49191  61461        4      GLEN OAKS   8489    1            1866   4228300   \n",
              "51859  64831        4        JAMAICA   9827   39            2261      2940   \n",
              "\n",
              "      gross_sqft  year_built sale_price  \n",
              "5111      829024        1975  620000000  \n",
              "19331    1021752        1977   70936348  \n",
              "27725      49500        1930          0  \n",
              "49190    3750565        1972     525000  \n",
              "49191    3750565        1972        -    \n",
              "51859       4522        1920     315000  "
            ]
          },
          "execution_count": 44,
          "metadata": {},
          "output_type": "execute_result"
        }
      ],
      "source": [
        "# Select rows that meet a certain criteria.\n",
        "df_homes[df_homes.units > 800]"
      ]
    },
    {
      "cell_type": "code",
      "execution_count": 45,
      "metadata": {
        "colab": {
          "base_uri": "https://localhost:8080/"
        },
        "id": "yLz2RE-TN5kh",
        "outputId": "72b273c4-7635-463e-b78b-9596e81daf36"
      },
      "outputs": [
        {
          "data": {
            "text/plain": [
              "0         6625000\n",
              "1             -  \n",
              "2             -  \n",
              "3         8000000\n",
              "4             -  \n",
              "           ...   \n",
              "67633      648000\n",
              "67634         -  \n",
              "67635      450000\n",
              "67636      460000\n",
              "67637    11693337\n",
              "Name: sale_price, Length: 67638, dtype: object"
            ]
          },
          "execution_count": 45,
          "metadata": {},
          "output_type": "execute_result"
        }
      ],
      "source": [
        "# Select a column in the dataset using its name.\n",
        "df_homes['sale_price']"
      ]
    },
    {
      "cell_type": "code",
      "execution_count": 46,
      "metadata": {
        "colab": {
          "base_uri": "https://localhost:8080/",
          "height": 424
        },
        "id": "4Q1eV8RqUXFl",
        "outputId": "b93490cf-9930-417c-9532-45b152c02a9b"
      },
      "outputs": [
        {
          "data": {
            "text/html": [
              "<div>\n",
              "<style scoped>\n",
              "    .dataframe tbody tr th:only-of-type {\n",
              "        vertical-align: middle;\n",
              "    }\n",
              "\n",
              "    .dataframe tbody tr th {\n",
              "        vertical-align: top;\n",
              "    }\n",
              "\n",
              "    .dataframe thead th {\n",
              "        text-align: right;\n",
              "    }\n",
              "</style>\n",
              "<table border=\"1\" class=\"dataframe\">\n",
              "  <thead>\n",
              "    <tr style=\"text-align: right;\">\n",
              "      <th></th>\n",
              "      <th>block</th>\n",
              "      <th>lot</th>\n",
              "      <th>sale_price</th>\n",
              "    </tr>\n",
              "  </thead>\n",
              "  <tbody>\n",
              "    <tr>\n",
              "      <th>0</th>\n",
              "      <td>392</td>\n",
              "      <td>6</td>\n",
              "      <td>6625000</td>\n",
              "    </tr>\n",
              "    <tr>\n",
              "      <th>1</th>\n",
              "      <td>399</td>\n",
              "      <td>26</td>\n",
              "      <td>-</td>\n",
              "    </tr>\n",
              "    <tr>\n",
              "      <th>2</th>\n",
              "      <td>399</td>\n",
              "      <td>39</td>\n",
              "      <td>-</td>\n",
              "    </tr>\n",
              "    <tr>\n",
              "      <th>3</th>\n",
              "      <td>404</td>\n",
              "      <td>55</td>\n",
              "      <td>8000000</td>\n",
              "    </tr>\n",
              "    <tr>\n",
              "      <th>4</th>\n",
              "      <td>405</td>\n",
              "      <td>16</td>\n",
              "      <td>-</td>\n",
              "    </tr>\n",
              "    <tr>\n",
              "      <th>...</th>\n",
              "      <td>...</td>\n",
              "      <td>...</td>\n",
              "      <td>...</td>\n",
              "    </tr>\n",
              "    <tr>\n",
              "      <th>67633</th>\n",
              "      <td>7317</td>\n",
              "      <td>126</td>\n",
              "      <td>648000</td>\n",
              "    </tr>\n",
              "    <tr>\n",
              "      <th>67634</th>\n",
              "      <td>7339</td>\n",
              "      <td>41</td>\n",
              "      <td>-</td>\n",
              "    </tr>\n",
              "    <tr>\n",
              "      <th>67635</th>\n",
              "      <td>7349</td>\n",
              "      <td>34</td>\n",
              "      <td>450000</td>\n",
              "    </tr>\n",
              "    <tr>\n",
              "      <th>67636</th>\n",
              "      <td>7351</td>\n",
              "      <td>60</td>\n",
              "      <td>460000</td>\n",
              "    </tr>\n",
              "    <tr>\n",
              "      <th>67637</th>\n",
              "      <td>7100</td>\n",
              "      <td>28</td>\n",
              "      <td>11693337</td>\n",
              "    </tr>\n",
              "  </tbody>\n",
              "</table>\n",
              "<p>67638 rows × 3 columns</p>\n",
              "</div>"
            ],
            "text/plain": [
              "       block  lot sale_price\n",
              "0        392    6    6625000\n",
              "1        399   26        -  \n",
              "2        399   39        -  \n",
              "3        404   55    8000000\n",
              "4        405   16        -  \n",
              "...      ...  ...        ...\n",
              "67633   7317  126     648000\n",
              "67634   7339   41        -  \n",
              "67635   7349   34     450000\n",
              "67636   7351   60     460000\n",
              "67637   7100   28   11693337\n",
              "\n",
              "[67638 rows x 3 columns]"
            ]
          },
          "execution_count": 46,
          "metadata": {},
          "output_type": "execute_result"
        }
      ],
      "source": [
        "# Select a subset of columns using their names.\n",
        "df_homes[['block', 'lot', 'sale_price']]"
      ]
    },
    {
      "cell_type": "code",
      "execution_count": 47,
      "metadata": {
        "colab": {
          "base_uri": "https://localhost:8080/"
        },
        "id": "_Scw2MBK4ZLK",
        "outputId": "a22d2f56-2ffb-4596-b7f6-a5eedee70d37"
      },
      "outputs": [
        {
          "data": {
            "text/plain": [
              "(67638, 9)"
            ]
          },
          "execution_count": 47,
          "metadata": {},
          "output_type": "execute_result"
        }
      ],
      "source": [
        "# Drop unnecessary columns.\n",
        "df_homes = df_homes.drop(columns=['id', 'easement'])\n",
        "df_homes.shape"
      ]
    },
    {
      "cell_type": "code",
      "execution_count": 48,
      "metadata": {
        "colab": {
          "base_uri": "https://localhost:8080/"
        },
        "id": "yzB_AgCrQgkS",
        "outputId": "bbe14b37-8014-440a-cbee-b85e2deaa7a5"
      },
      "outputs": [
        {
          "name": "stdout",
          "output_type": "stream",
          "text": [
            "<class 'pandas.core.frame.DataFrame'>\n",
            "RangeIndex: 67638 entries, 0 to 67637\n",
            "Data columns (total 9 columns):\n",
            " #   Column        Non-Null Count  Dtype \n",
            "---  ------        --------------  ----- \n",
            " 0   district      67638 non-null  int64 \n",
            " 1   neighborhood  67638 non-null  object\n",
            " 2   block         67638 non-null  int64 \n",
            " 3   lot           67638 non-null  int64 \n",
            " 4   units         67638 non-null  int64 \n",
            " 5   land_sqft     67638 non-null  object\n",
            " 6   gross_sqft    67638 non-null  object\n",
            " 7   year_built    67638 non-null  int64 \n",
            " 8   sale_price    67638 non-null  object\n",
            "dtypes: int64(5), object(4)\n",
            "memory usage: 4.6+ MB\n"
          ]
        }
      ],
      "source": [
        "# Rename a column.\n",
        "df_homes = df_homes.rename(columns = {'borough':'district'})\n",
        "df_homes.info()"
      ]
    },
    {
      "cell_type": "code",
      "execution_count": 49,
      "metadata": {
        "colab": {
          "base_uri": "https://localhost:8080/"
        },
        "id": "hzKpB6lUE05X",
        "outputId": "7f1b3b71-eefc-4d45-a6de-370a25d9b9e6"
      },
      "outputs": [
        {
          "name": "stdout",
          "output_type": "stream",
          "text": [
            "<class 'pandas.core.frame.DataFrame'>\n",
            "RangeIndex: 67638 entries, 0 to 67637\n",
            "Data columns (total 9 columns):\n",
            " #   Column        Non-Null Count  Dtype  \n",
            "---  ------        --------------  -----  \n",
            " 0   district      67638 non-null  int64  \n",
            " 1   neighborhood  67638 non-null  object \n",
            " 2   block         67638 non-null  int64  \n",
            " 3   lot           67638 non-null  int64  \n",
            " 4   units         67638 non-null  int64  \n",
            " 5   land_sqft     46553 non-null  float64\n",
            " 6   gross_sqft    45472 non-null  float64\n",
            " 7   year_built    67638 non-null  int64  \n",
            " 8   sale_price    55936 non-null  float64\n",
            "dtypes: float64(3), int64(5), object(1)\n",
            "memory usage: 4.6+ MB\n"
          ]
        }
      ],
      "source": [
        "# Convert selected columns into the appropriate data types.\n",
        "df_homes['land_sqft'] = pd.to_numeric(df_homes['land_sqft'], errors='coerce')\n",
        "df_homes['gross_sqft'] = pd.to_numeric(df_homes['gross_sqft'], errors='coerce')\n",
        "df_homes['sale_price'] = pd.to_numeric(df_homes['sale_price'], errors='coerce')\n",
        "df_homes.info()"
      ]
    },
    {
      "cell_type": "code",
      "execution_count": 50,
      "metadata": {
        "colab": {
          "base_uri": "https://localhost:8080/"
        },
        "id": "L0XOtBLgxQqY",
        "outputId": "89e26bb2-af97-4567-ea0e-b563fdf073f6"
      },
      "outputs": [
        {
          "data": {
            "text/plain": [
              "district            0\n",
              "neighborhood        0\n",
              "block               0\n",
              "lot                 0\n",
              "units               0\n",
              "land_sqft       21085\n",
              "gross_sqft      22166\n",
              "year_built          0\n",
              "sale_price      11702\n",
              "dtype: int64"
            ]
          },
          "execution_count": 50,
          "metadata": {},
          "output_type": "execute_result"
        }
      ],
      "source": [
        "# Determine if there are any null values.\n",
        "df_homes.isnull().sum()"
      ]
    },
    {
      "cell_type": "code",
      "execution_count": 51,
      "metadata": {
        "colab": {
          "base_uri": "https://localhost:8080/",
          "height": 206
        },
        "id": "HzVdfnXesU_O",
        "outputId": "f83950c6-acb5-4798-ee3e-4f9d7d09d175"
      },
      "outputs": [
        {
          "data": {
            "text/html": [
              "<div>\n",
              "<style scoped>\n",
              "    .dataframe tbody tr th:only-of-type {\n",
              "        vertical-align: middle;\n",
              "    }\n",
              "\n",
              "    .dataframe tbody tr th {\n",
              "        vertical-align: top;\n",
              "    }\n",
              "\n",
              "    .dataframe thead th {\n",
              "        text-align: right;\n",
              "    }\n",
              "</style>\n",
              "<table border=\"1\" class=\"dataframe\">\n",
              "  <thead>\n",
              "    <tr style=\"text-align: right;\">\n",
              "      <th></th>\n",
              "      <th>district</th>\n",
              "      <th>neighborhood</th>\n",
              "      <th>block</th>\n",
              "      <th>lot</th>\n",
              "      <th>units</th>\n",
              "      <th>land_sqft</th>\n",
              "      <th>gross_sqft</th>\n",
              "      <th>year_built</th>\n",
              "      <th>sale_price</th>\n",
              "    </tr>\n",
              "  </thead>\n",
              "  <tbody>\n",
              "    <tr>\n",
              "      <th>1</th>\n",
              "      <td>1</td>\n",
              "      <td>ALPHABET CITY</td>\n",
              "      <td>399</td>\n",
              "      <td>26</td>\n",
              "      <td>31</td>\n",
              "      <td>4616.0</td>\n",
              "      <td>18690.0</td>\n",
              "      <td>1900</td>\n",
              "      <td>500.0</td>\n",
              "    </tr>\n",
              "    <tr>\n",
              "      <th>2</th>\n",
              "      <td>1</td>\n",
              "      <td>ALPHABET CITY</td>\n",
              "      <td>399</td>\n",
              "      <td>39</td>\n",
              "      <td>17</td>\n",
              "      <td>2212.0</td>\n",
              "      <td>7803.0</td>\n",
              "      <td>1900</td>\n",
              "      <td>500.0</td>\n",
              "    </tr>\n",
              "    <tr>\n",
              "      <th>4</th>\n",
              "      <td>1</td>\n",
              "      <td>ALPHABET CITY</td>\n",
              "      <td>405</td>\n",
              "      <td>16</td>\n",
              "      <td>20</td>\n",
              "      <td>2581.0</td>\n",
              "      <td>9730.0</td>\n",
              "      <td>1900</td>\n",
              "      <td>500.0</td>\n",
              "    </tr>\n",
              "    <tr>\n",
              "      <th>6</th>\n",
              "      <td>1</td>\n",
              "      <td>ALPHABET CITY</td>\n",
              "      <td>407</td>\n",
              "      <td>18</td>\n",
              "      <td>46</td>\n",
              "      <td>5163.0</td>\n",
              "      <td>21007.0</td>\n",
              "      <td>1900</td>\n",
              "      <td>500.0</td>\n",
              "    </tr>\n",
              "    <tr>\n",
              "      <th>8</th>\n",
              "      <td>1</td>\n",
              "      <td>ALPHABET CITY</td>\n",
              "      <td>394</td>\n",
              "      <td>44</td>\n",
              "      <td>34</td>\n",
              "      <td>4295.0</td>\n",
              "      <td>21328.0</td>\n",
              "      <td>1910</td>\n",
              "      <td>500.0</td>\n",
              "    </tr>\n",
              "  </tbody>\n",
              "</table>\n",
              "</div>"
            ],
            "text/plain": [
              "   district   neighborhood  block  lot  units  land_sqft  gross_sqft  \\\n",
              "1         1  ALPHABET CITY    399   26     31     4616.0     18690.0   \n",
              "2         1  ALPHABET CITY    399   39     17     2212.0      7803.0   \n",
              "4         1  ALPHABET CITY    405   16     20     2581.0      9730.0   \n",
              "6         1  ALPHABET CITY    407   18     46     5163.0     21007.0   \n",
              "8         1  ALPHABET CITY    394   44     34     4295.0     21328.0   \n",
              "\n",
              "   year_built  sale_price  \n",
              "1        1900       500.0  \n",
              "2        1900       500.0  \n",
              "4        1900       500.0  \n",
              "6        1900       500.0  \n",
              "8        1910       500.0  "
            ]
          },
          "execution_count": 51,
          "metadata": {},
          "output_type": "execute_result"
        }
      ],
      "source": [
        "# Replace NULL values.\n",
        "df_homes_filled = df_homes.fillna(500)\n",
        "df_homes_filled[df_homes_filled.sale_price == 500].head()"
      ]
    },
    {
      "cell_type": "code",
      "execution_count": 52,
      "metadata": {
        "colab": {
          "base_uri": "https://localhost:8080/"
        },
        "id": "YXo2Rz027naQ",
        "outputId": "ae235a4e-d78d-4974-ce5e-10700959c6d6"
      },
      "outputs": [
        {
          "data": {
            "text/plain": [
              "district        0\n",
              "neighborhood    0\n",
              "block           0\n",
              "lot             0\n",
              "units           0\n",
              "land_sqft       0\n",
              "gross_sqft      0\n",
              "year_built      0\n",
              "sale_price      0\n",
              "dtype: int64"
            ]
          },
          "execution_count": 52,
          "metadata": {},
          "output_type": "execute_result"
        }
      ],
      "source": [
        "# Drop the records with null values. (Be cautious.)\n",
        "# df_homes_null = df_homes.dropna()\n",
        "# df_homes_null.isnull().sum()\n",
        "\n",
        "df_homes = df_homes.dropna()\n",
        "df_homes.isnull().sum()"
      ]
    },
    {
      "cell_type": "code",
      "execution_count": 53,
      "metadata": {
        "colab": {
          "base_uri": "https://localhost:8080/"
        },
        "id": "e-wGPkKezzk3",
        "outputId": "4fb9213c-bbf0-4593-d1ef-0dea7055deaf"
      },
      "outputs": [
        {
          "data": {
            "text/plain": [
              "711"
            ]
          },
          "execution_count": 53,
          "metadata": {},
          "output_type": "execute_result"
        }
      ],
      "source": [
        "# Check to see if there are any duplicate records.\n",
        "sum(df_homes.duplicated(df_homes.columns))"
      ]
    },
    {
      "cell_type": "code",
      "execution_count": 54,
      "metadata": {
        "colab": {
          "base_uri": "https://localhost:8080/"
        },
        "id": "LxV2o2X60Bi5",
        "outputId": "e61322db-5aea-42fc-855e-476ef109f6fc"
      },
      "outputs": [
        {
          "data": {
            "text/plain": [
              "0"
            ]
          },
          "execution_count": 54,
          "metadata": {},
          "output_type": "execute_result"
        }
      ],
      "source": [
        "# Delete the duplicates.\n",
        "df_homes = df_homes.drop_duplicates(df_homes.columns, keep='last')\n",
        "sum(df_homes.duplicated(df_homes.columns))"
      ]
    },
    {
      "cell_type": "code",
      "execution_count": 55,
      "metadata": {
        "colab": {
          "base_uri": "https://localhost:8080/",
          "height": 364
        },
        "id": "_CDyPn2swlgu",
        "outputId": "355258cf-fe03-4a80-f446-718e439d98ae"
      },
      "outputs": [
        {
          "data": {
            "text/html": [
              "<div>\n",
              "<style scoped>\n",
              "    .dataframe tbody tr th:only-of-type {\n",
              "        vertical-align: middle;\n",
              "    }\n",
              "\n",
              "    .dataframe tbody tr th {\n",
              "        vertical-align: top;\n",
              "    }\n",
              "\n",
              "    .dataframe thead th {\n",
              "        text-align: right;\n",
              "    }\n",
              "</style>\n",
              "<table border=\"1\" class=\"dataframe\">\n",
              "  <thead>\n",
              "    <tr style=\"text-align: right;\">\n",
              "      <th></th>\n",
              "      <th>district</th>\n",
              "      <th>block</th>\n",
              "      <th>lot</th>\n",
              "      <th>units</th>\n",
              "      <th>land_sqft</th>\n",
              "      <th>gross_sqft</th>\n",
              "      <th>year_built</th>\n",
              "      <th>sale_price</th>\n",
              "    </tr>\n",
              "  </thead>\n",
              "  <tbody>\n",
              "    <tr>\n",
              "      <th>count</th>\n",
              "      <td>37832.000000</td>\n",
              "      <td>37832.00000</td>\n",
              "      <td>37832.000000</td>\n",
              "      <td>37832.000000</td>\n",
              "      <td>3.783200e+04</td>\n",
              "      <td>3.783200e+04</td>\n",
              "      <td>37832.000000</td>\n",
              "      <td>3.783200e+04</td>\n",
              "    </tr>\n",
              "    <tr>\n",
              "      <th>mean</th>\n",
              "      <td>3.255472</td>\n",
              "      <td>4994.96043</td>\n",
              "      <td>234.393979</td>\n",
              "      <td>2.870824</td>\n",
              "      <td>3.388155e+03</td>\n",
              "      <td>3.705101e+03</td>\n",
              "      <td>1828.269137</td>\n",
              "      <td>1.227169e+06</td>\n",
              "    </tr>\n",
              "    <tr>\n",
              "      <th>std</th>\n",
              "      <td>0.905603</td>\n",
              "      <td>3438.21877</td>\n",
              "      <td>496.382130</td>\n",
              "      <td>21.815485</td>\n",
              "      <td>3.412779e+04</td>\n",
              "      <td>3.204094e+04</td>\n",
              "      <td>463.226348</td>\n",
              "      <td>1.499390e+07</td>\n",
              "    </tr>\n",
              "    <tr>\n",
              "      <th>min</th>\n",
              "      <td>1.000000</td>\n",
              "      <td>1.00000</td>\n",
              "      <td>1.000000</td>\n",
              "      <td>0.000000</td>\n",
              "      <td>0.000000e+00</td>\n",
              "      <td>0.000000e+00</td>\n",
              "      <td>0.000000</td>\n",
              "      <td>0.000000e+00</td>\n",
              "    </tr>\n",
              "    <tr>\n",
              "      <th>25%</th>\n",
              "      <td>3.000000</td>\n",
              "      <td>2217.75000</td>\n",
              "      <td>21.000000</td>\n",
              "      <td>1.000000</td>\n",
              "      <td>1.440000e+03</td>\n",
              "      <td>8.640000e+02</td>\n",
              "      <td>1920.000000</td>\n",
              "      <td>1.174562e+05</td>\n",
              "    </tr>\n",
              "    <tr>\n",
              "      <th>50%</th>\n",
              "      <td>3.000000</td>\n",
              "      <td>4666.00000</td>\n",
              "      <td>45.000000</td>\n",
              "      <td>1.000000</td>\n",
              "      <td>2.146000e+03</td>\n",
              "      <td>1.624000e+03</td>\n",
              "      <td>1931.000000</td>\n",
              "      <td>4.900000e+05</td>\n",
              "    </tr>\n",
              "    <tr>\n",
              "      <th>75%</th>\n",
              "      <td>4.000000</td>\n",
              "      <td>6986.25000</td>\n",
              "      <td>94.000000</td>\n",
              "      <td>2.000000</td>\n",
              "      <td>3.069000e+03</td>\n",
              "      <td>2.516000e+03</td>\n",
              "      <td>1960.000000</td>\n",
              "      <td>8.400000e+05</td>\n",
              "    </tr>\n",
              "    <tr>\n",
              "      <th>max</th>\n",
              "      <td>5.000000</td>\n",
              "      <td>16319.00000</td>\n",
              "      <td>9009.000000</td>\n",
              "      <td>2261.000000</td>\n",
              "      <td>4.228300e+06</td>\n",
              "      <td>3.750565e+06</td>\n",
              "      <td>2017.000000</td>\n",
              "      <td>2.210000e+09</td>\n",
              "    </tr>\n",
              "  </tbody>\n",
              "</table>\n",
              "</div>"
            ],
            "text/plain": [
              "           district        block           lot         units     land_sqft  \\\n",
              "count  37832.000000  37832.00000  37832.000000  37832.000000  3.783200e+04   \n",
              "mean       3.255472   4994.96043    234.393979      2.870824  3.388155e+03   \n",
              "std        0.905603   3438.21877    496.382130     21.815485  3.412779e+04   \n",
              "min        1.000000      1.00000      1.000000      0.000000  0.000000e+00   \n",
              "25%        3.000000   2217.75000     21.000000      1.000000  1.440000e+03   \n",
              "50%        3.000000   4666.00000     45.000000      1.000000  2.146000e+03   \n",
              "75%        4.000000   6986.25000     94.000000      2.000000  3.069000e+03   \n",
              "max        5.000000  16319.00000   9009.000000   2261.000000  4.228300e+06   \n",
              "\n",
              "         gross_sqft    year_built    sale_price  \n",
              "count  3.783200e+04  37832.000000  3.783200e+04  \n",
              "mean   3.705101e+03   1828.269137  1.227169e+06  \n",
              "std    3.204094e+04    463.226348  1.499390e+07  \n",
              "min    0.000000e+00      0.000000  0.000000e+00  \n",
              "25%    8.640000e+02   1920.000000  1.174562e+05  \n",
              "50%    1.624000e+03   1931.000000  4.900000e+05  \n",
              "75%    2.516000e+03   1960.000000  8.400000e+05  \n",
              "max    3.750565e+06   2017.000000  2.210000e+09  "
            ]
          },
          "execution_count": 55,
          "metadata": {},
          "output_type": "execute_result"
        }
      ],
      "source": [
        "# Generate descriptive stats for the numeric columns.\n",
        "df_homes.describe()"
      ]
    },
    {
      "cell_type": "code",
      "execution_count": 56,
      "metadata": {
        "colab": {
          "base_uri": "https://localhost:8080/"
        },
        "id": "a101GCECAuq2",
        "outputId": "7d19b776-caf4-4fe6-e67f-1c596dbe13d9"
      },
      "outputs": [
        {
          "data": {
            "text/plain": [
              "(30083, 9)"
            ]
          },
          "execution_count": 56,
          "metadata": {},
          "output_type": "execute_result"
        }
      ],
      "source": [
        "# Remove homes with 0's in the sale price.\n",
        "df_homes = df_homes[df_homes['sale_price'] > 0]\n",
        "df_homes.shape"
      ]
    },
    {
      "cell_type": "code",
      "execution_count": 57,
      "metadata": {
        "colab": {
          "base_uri": "https://localhost:8080/"
        },
        "id": "TKuSEgE1YC8T",
        "outputId": "aec0c810-ba69-47ad-8191-41b530eaadfd"
      },
      "outputs": [
        {
          "data": {
            "text/plain": [
              "(28629, 9)"
            ]
          },
          "execution_count": 57,
          "metadata": {},
          "output_type": "execute_result"
        }
      ],
      "source": [
        "# Remove homes that have 0 as their \"YEAR BUILT\".\n",
        "df_homes = df_homes[df_homes['year_built'] > 0]\n",
        "df_homes.shape"
      ]
    },
    {
      "cell_type": "code",
      "execution_count": 58,
      "metadata": {
        "colab": {
          "base_uri": "https://localhost:8080/",
          "height": 250
        },
        "id": "6twBM3N2XHlR",
        "outputId": "eee4f0fe-aae6-4953-9528-05073d53cc1b"
      },
      "outputs": [
        {
          "data": {
            "text/html": [
              "<div>\n",
              "<style scoped>\n",
              "    .dataframe tbody tr th:only-of-type {\n",
              "        vertical-align: middle;\n",
              "    }\n",
              "\n",
              "    .dataframe tbody tr th {\n",
              "        vertical-align: top;\n",
              "    }\n",
              "\n",
              "    .dataframe thead th {\n",
              "        text-align: right;\n",
              "    }\n",
              "</style>\n",
              "<table border=\"1\" class=\"dataframe\">\n",
              "  <thead>\n",
              "    <tr style=\"text-align: right;\">\n",
              "      <th></th>\n",
              "      <th>district</th>\n",
              "      <th>neighborhood</th>\n",
              "      <th>block</th>\n",
              "      <th>lot</th>\n",
              "      <th>units</th>\n",
              "      <th>land_sqft</th>\n",
              "      <th>gross_sqft</th>\n",
              "      <th>year_built</th>\n",
              "      <th>sale_price</th>\n",
              "      <th>building_age</th>\n",
              "    </tr>\n",
              "  </thead>\n",
              "  <tbody>\n",
              "    <tr>\n",
              "      <th>0</th>\n",
              "      <td>1</td>\n",
              "      <td>ALPHABET CITY</td>\n",
              "      <td>392</td>\n",
              "      <td>6</td>\n",
              "      <td>5</td>\n",
              "      <td>1633.0</td>\n",
              "      <td>6440.0</td>\n",
              "      <td>1900</td>\n",
              "      <td>6625000.0</td>\n",
              "      <td>122</td>\n",
              "    </tr>\n",
              "    <tr>\n",
              "      <th>3</th>\n",
              "      <td>1</td>\n",
              "      <td>ALPHABET CITY</td>\n",
              "      <td>404</td>\n",
              "      <td>55</td>\n",
              "      <td>6</td>\n",
              "      <td>2369.0</td>\n",
              "      <td>4615.0</td>\n",
              "      <td>1900</td>\n",
              "      <td>8000000.0</td>\n",
              "      <td>122</td>\n",
              "    </tr>\n",
              "    <tr>\n",
              "      <th>5</th>\n",
              "      <td>1</td>\n",
              "      <td>ALPHABET CITY</td>\n",
              "      <td>406</td>\n",
              "      <td>32</td>\n",
              "      <td>8</td>\n",
              "      <td>1750.0</td>\n",
              "      <td>4226.0</td>\n",
              "      <td>1920</td>\n",
              "      <td>3192840.0</td>\n",
              "      <td>102</td>\n",
              "    </tr>\n",
              "    <tr>\n",
              "      <th>7</th>\n",
              "      <td>1</td>\n",
              "      <td>ALPHABET CITY</td>\n",
              "      <td>387</td>\n",
              "      <td>153</td>\n",
              "      <td>24</td>\n",
              "      <td>4489.0</td>\n",
              "      <td>18523.0</td>\n",
              "      <td>1920</td>\n",
              "      <td>16232000.0</td>\n",
              "      <td>102</td>\n",
              "    </tr>\n",
              "    <tr>\n",
              "      <th>17</th>\n",
              "      <td>1</td>\n",
              "      <td>ALPHABET CITY</td>\n",
              "      <td>376</td>\n",
              "      <td>14</td>\n",
              "      <td>24</td>\n",
              "      <td>4131.0</td>\n",
              "      <td>16776.0</td>\n",
              "      <td>1928</td>\n",
              "      <td>11900000.0</td>\n",
              "      <td>94</td>\n",
              "    </tr>\n",
              "  </tbody>\n",
              "</table>\n",
              "</div>"
            ],
            "text/plain": [
              "    district   neighborhood  block  lot  units  land_sqft  gross_sqft  \\\n",
              "0          1  ALPHABET CITY    392    6      5     1633.0      6440.0   \n",
              "3          1  ALPHABET CITY    404   55      6     2369.0      4615.0   \n",
              "5          1  ALPHABET CITY    406   32      8     1750.0      4226.0   \n",
              "7          1  ALPHABET CITY    387  153     24     4489.0     18523.0   \n",
              "17         1  ALPHABET CITY    376   14     24     4131.0     16776.0   \n",
              "\n",
              "    year_built  sale_price  building_age  \n",
              "0         1900   6625000.0           122  \n",
              "3         1900   8000000.0           122  \n",
              "5         1920   3192840.0           102  \n",
              "7         1920  16232000.0           102  \n",
              "17        1928  11900000.0            94  "
            ]
          },
          "execution_count": 58,
          "metadata": {},
          "output_type": "execute_result"
        }
      ],
      "source": [
        "# Create a column called \"BUILDING AGE,\" which is more useful than \"YEAR BUILT\"\n",
        "df_homes['building_age'] = 2022 - df_homes['year_built']\n",
        "df_homes.head()"
      ]
    },
    {
      "cell_type": "code",
      "execution_count": 59,
      "metadata": {
        "colab": {
          "base_uri": "https://localhost:8080/"
        },
        "id": "QRFOsvdj3GF4",
        "outputId": "0a17d11c-727d-472d-d5d7-5cf857ddfd04"
      },
      "outputs": [
        {
          "data": {
            "text/plain": [
              "(27465, 10)"
            ]
          },
          "execution_count": 59,
          "metadata": {},
          "output_type": "execute_result"
        }
      ],
      "source": [
        "# Remove properties that have SQFT greater than 10,000.\n",
        "df_homes = df_homes[df_homes['gross_sqft'] < 10000]\n",
        "df_homes = df_homes[df_homes['land_sqft'] < 10000]\n",
        "df_homes.shape"
      ]
    },
    {
      "cell_type": "code",
      "execution_count": 60,
      "metadata": {
        "colab": {
          "base_uri": "https://localhost:8080/"
        },
        "id": "r_A4BTVQHlfq",
        "outputId": "aa4e564f-3c27-40e3-acd6-5dd60bde4a84"
      },
      "outputs": [
        {
          "data": {
            "text/plain": [
              "0      Manhattan\n",
              "3      Manhattan\n",
              "5      Manhattan\n",
              "138    Manhattan\n",
              "139    Manhattan\n",
              "Name: district, dtype: object"
            ]
          },
          "execution_count": 60,
          "metadata": {},
          "output_type": "execute_result"
        }
      ],
      "source": [
        "# Change the boroughs from a number to their actual name.\n",
        "df_homes['district'] = df_homes['district'].replace([1, 2, 3, 4, 5],\n",
        "                                                    ['Manhattan',\n",
        "                                                     'Bronx',\n",
        "                                                     'Brooklyn',\n",
        "                                                     'Queens',\n",
        "                                                     'Staten Island'])\n",
        "df_homes['district'].head()"
      ]
    },
    {
      "cell_type": "code",
      "execution_count": 61,
      "metadata": {
        "colab": {
          "base_uri": "https://localhost:8080/"
        },
        "id": "TIvowM0LUxSm",
        "outputId": "a6f8722a-c6bc-4dd9-b91d-eefb60cbd7dc"
      },
      "outputs": [
        {
          "data": {
            "text/plain": [
              "Brooklyn         11009\n",
              "Queens            8596\n",
              "Staten Island     3804\n",
              "Bronx             3580\n",
              "Manhattan          476\n",
              "Name: district, dtype: int64"
            ]
          },
          "execution_count": 61,
          "metadata": {},
          "output_type": "execute_result"
        }
      ],
      "source": [
        "# Count frequencies in a categorical column.\n",
        "# df_homes['neighborhood'].value_counts()\n",
        "df_homes['district'].value_counts()"
      ]
    },
    {
      "cell_type": "code",
      "execution_count": 62,
      "metadata": {
        "colab": {
          "base_uri": "https://localhost:8080/",
          "height": 424
        },
        "id": "uz0PZdg19W_z",
        "outputId": "c9505d27-3ff7-41bf-e65c-ca505704aa29"
      },
      "outputs": [
        {
          "data": {
            "text/html": [
              "<div>\n",
              "<style scoped>\n",
              "    .dataframe tbody tr th:only-of-type {\n",
              "        vertical-align: middle;\n",
              "    }\n",
              "\n",
              "    .dataframe tbody tr th {\n",
              "        vertical-align: top;\n",
              "    }\n",
              "\n",
              "    .dataframe thead th {\n",
              "        text-align: right;\n",
              "    }\n",
              "</style>\n",
              "<table border=\"1\" class=\"dataframe\">\n",
              "  <thead>\n",
              "    <tr style=\"text-align: right;\">\n",
              "      <th></th>\n",
              "      <th>d_Bronx</th>\n",
              "      <th>d_Brooklyn</th>\n",
              "      <th>d_Manhattan</th>\n",
              "      <th>d_Queens</th>\n",
              "      <th>d_Staten Island</th>\n",
              "    </tr>\n",
              "  </thead>\n",
              "  <tbody>\n",
              "    <tr>\n",
              "      <th>0</th>\n",
              "      <td>0</td>\n",
              "      <td>0</td>\n",
              "      <td>1</td>\n",
              "      <td>0</td>\n",
              "      <td>0</td>\n",
              "    </tr>\n",
              "    <tr>\n",
              "      <th>3</th>\n",
              "      <td>0</td>\n",
              "      <td>0</td>\n",
              "      <td>1</td>\n",
              "      <td>0</td>\n",
              "      <td>0</td>\n",
              "    </tr>\n",
              "    <tr>\n",
              "      <th>5</th>\n",
              "      <td>0</td>\n",
              "      <td>0</td>\n",
              "      <td>1</td>\n",
              "      <td>0</td>\n",
              "      <td>0</td>\n",
              "    </tr>\n",
              "    <tr>\n",
              "      <th>138</th>\n",
              "      <td>0</td>\n",
              "      <td>0</td>\n",
              "      <td>1</td>\n",
              "      <td>0</td>\n",
              "      <td>0</td>\n",
              "    </tr>\n",
              "    <tr>\n",
              "      <th>139</th>\n",
              "      <td>0</td>\n",
              "      <td>0</td>\n",
              "      <td>1</td>\n",
              "      <td>0</td>\n",
              "      <td>0</td>\n",
              "    </tr>\n",
              "    <tr>\n",
              "      <th>...</th>\n",
              "      <td>...</td>\n",
              "      <td>...</td>\n",
              "      <td>...</td>\n",
              "      <td>...</td>\n",
              "      <td>...</td>\n",
              "    </tr>\n",
              "    <tr>\n",
              "      <th>67628</th>\n",
              "      <td>0</td>\n",
              "      <td>0</td>\n",
              "      <td>0</td>\n",
              "      <td>0</td>\n",
              "      <td>1</td>\n",
              "    </tr>\n",
              "    <tr>\n",
              "      <th>67629</th>\n",
              "      <td>0</td>\n",
              "      <td>0</td>\n",
              "      <td>0</td>\n",
              "      <td>0</td>\n",
              "      <td>1</td>\n",
              "    </tr>\n",
              "    <tr>\n",
              "      <th>67632</th>\n",
              "      <td>0</td>\n",
              "      <td>0</td>\n",
              "      <td>0</td>\n",
              "      <td>0</td>\n",
              "      <td>1</td>\n",
              "    </tr>\n",
              "    <tr>\n",
              "      <th>67635</th>\n",
              "      <td>0</td>\n",
              "      <td>0</td>\n",
              "      <td>0</td>\n",
              "      <td>0</td>\n",
              "      <td>1</td>\n",
              "    </tr>\n",
              "    <tr>\n",
              "      <th>67636</th>\n",
              "      <td>0</td>\n",
              "      <td>0</td>\n",
              "      <td>0</td>\n",
              "      <td>0</td>\n",
              "      <td>1</td>\n",
              "    </tr>\n",
              "  </tbody>\n",
              "</table>\n",
              "<p>27465 rows × 5 columns</p>\n",
              "</div>"
            ],
            "text/plain": [
              "       d_Bronx  d_Brooklyn  d_Manhattan  d_Queens  d_Staten Island\n",
              "0            0           0            1         0                0\n",
              "3            0           0            1         0                0\n",
              "5            0           0            1         0                0\n",
              "138          0           0            1         0                0\n",
              "139          0           0            1         0                0\n",
              "...        ...         ...          ...       ...              ...\n",
              "67628        0           0            0         0                1\n",
              "67629        0           0            0         0                1\n",
              "67632        0           0            0         0                1\n",
              "67635        0           0            0         0                1\n",
              "67636        0           0            0         0                1\n",
              "\n",
              "[27465 rows x 5 columns]"
            ]
          },
          "execution_count": 62,
          "metadata": {},
          "output_type": "execute_result"
        }
      ],
      "source": [
        "# Convert a categorical variable into dummy variables.\n",
        "pd.get_dummies(df_homes['district'], columns=['district'], prefix='d')"
      ]
    },
    {
      "cell_type": "code",
      "execution_count": 63,
      "metadata": {
        "colab": {
          "base_uri": "https://localhost:8080/"
        },
        "id": "YOZso5Qbv0PG",
        "outputId": "30f34e12-d405-4d37-b2ea-2130c4dddd9d"
      },
      "outputs": [
        {
          "data": {
            "text/plain": [
              "(20, 10)"
            ]
          },
          "execution_count": 63,
          "metadata": {},
          "output_type": "execute_result"
        }
      ],
      "source": [
        "# Randomly select two samples of 10 rows each.\n",
        "sample1 = df_homes.sample(n=10)\n",
        "sample2 = df_homes.sample(n=10)\n",
        "\n",
        "# Append rows.\n",
        "combined_sample = pd.concat([sample1, sample2])\n",
        "combined_sample.shape"
      ]
    },
    {
      "cell_type": "code",
      "execution_count": 69,
      "metadata": {
        "colab": {
          "base_uri": "https://localhost:8080/",
          "height": 486
        },
        "id": "4a8_QFCSuD_d",
        "outputId": "6dac71ba-de29-430b-b6af-bddbf7ede30e"
      },
      "outputs": [
        {
          "data": {
            "text/html": [
              "<div>\n",
              "<style scoped>\n",
              "    .dataframe tbody tr th:only-of-type {\n",
              "        vertical-align: middle;\n",
              "    }\n",
              "\n",
              "    .dataframe tbody tr th {\n",
              "        vertical-align: top;\n",
              "    }\n",
              "\n",
              "    .dataframe thead tr th {\n",
              "        text-align: left;\n",
              "    }\n",
              "\n",
              "    .dataframe thead tr:last-of-type th {\n",
              "        text-align: right;\n",
              "    }\n",
              "</style>\n",
              "<table border=\"1\" class=\"dataframe\">\n",
              "  <thead>\n",
              "    <tr>\n",
              "      <th></th>\n",
              "      <th></th>\n",
              "      <th>sum</th>\n",
              "      <th>mean</th>\n",
              "    </tr>\n",
              "    <tr>\n",
              "      <th></th>\n",
              "      <th></th>\n",
              "      <th>sale_price</th>\n",
              "      <th>sale_price</th>\n",
              "    </tr>\n",
              "    <tr>\n",
              "      <th>district</th>\n",
              "      <th>neighborhood</th>\n",
              "      <th></th>\n",
              "      <th></th>\n",
              "    </tr>\n",
              "  </thead>\n",
              "  <tbody>\n",
              "    <tr>\n",
              "      <th rowspan=\"5\" valign=\"top\">Bronx</th>\n",
              "      <th>BATHGATE</th>\n",
              "      <td>19684293.0</td>\n",
              "      <td>5.964937e+05</td>\n",
              "    </tr>\n",
              "    <tr>\n",
              "      <th>BAYCHESTER</th>\n",
              "      <td>100729034.0</td>\n",
              "      <td>4.078099e+05</td>\n",
              "    </tr>\n",
              "    <tr>\n",
              "      <th>BEDFORD PARK/NORWOOD</th>\n",
              "      <td>49696670.0</td>\n",
              "      <td>4.437203e+05</td>\n",
              "    </tr>\n",
              "    <tr>\n",
              "      <th>BELMONT</th>\n",
              "      <td>35382557.0</td>\n",
              "      <td>1.220088e+06</td>\n",
              "    </tr>\n",
              "    <tr>\n",
              "      <th>BRONXDALE</th>\n",
              "      <td>74450163.0</td>\n",
              "      <td>3.960115e+05</td>\n",
              "    </tr>\n",
              "    <tr>\n",
              "      <th>...</th>\n",
              "      <th>...</th>\n",
              "      <td>...</td>\n",
              "      <td>...</td>\n",
              "    </tr>\n",
              "    <tr>\n",
              "      <th rowspan=\"5\" valign=\"top\">Staten Island</th>\n",
              "      <th>TRAVIS</th>\n",
              "      <td>17363215.0</td>\n",
              "      <td>3.946185e+05</td>\n",
              "    </tr>\n",
              "    <tr>\n",
              "      <th>WEST NEW BRIGHTON</th>\n",
              "      <td>70476392.0</td>\n",
              "      <td>4.220143e+05</td>\n",
              "    </tr>\n",
              "    <tr>\n",
              "      <th>WESTERLEIGH</th>\n",
              "      <td>75755045.0</td>\n",
              "      <td>5.372698e+05</td>\n",
              "    </tr>\n",
              "    <tr>\n",
              "      <th>WILLOWBROOK</th>\n",
              "      <td>56235783.0</td>\n",
              "      <td>5.919556e+05</td>\n",
              "    </tr>\n",
              "    <tr>\n",
              "      <th>WOODROW</th>\n",
              "      <td>33461885.0</td>\n",
              "      <td>5.228420e+05</td>\n",
              "    </tr>\n",
              "  </tbody>\n",
              "</table>\n",
              "<p>243 rows × 2 columns</p>\n",
              "</div>"
            ],
            "text/plain": [
              "                                            sum          mean\n",
              "                                     sale_price    sale_price\n",
              "district      neighborhood                                   \n",
              "Bronx         BATHGATE               19684293.0  5.964937e+05\n",
              "              BAYCHESTER            100729034.0  4.078099e+05\n",
              "              BEDFORD PARK/NORWOOD   49696670.0  4.437203e+05\n",
              "              BELMONT                35382557.0  1.220088e+06\n",
              "              BRONXDALE              74450163.0  3.960115e+05\n",
              "...                                         ...           ...\n",
              "Staten Island TRAVIS                 17363215.0  3.946185e+05\n",
              "              WEST NEW BRIGHTON      70476392.0  4.220143e+05\n",
              "              WESTERLEIGH            75755045.0  5.372698e+05\n",
              "              WILLOWBROOK            56235783.0  5.919556e+05\n",
              "              WOODROW                33461885.0  5.228420e+05\n",
              "\n",
              "[243 rows x 2 columns]"
            ]
          },
          "execution_count": 69,
          "metadata": {},
          "output_type": "execute_result"
        }
      ],
      "source": [
        "# Explore data using pivot tables.\n",
        "# pd.pivot_table(df_homes, index=['district'], values=['sale_price'])\n",
        "# pd.pivot_table(df_homes, index=['district'], values=['sale_price'], aggfunc=[np.sum])\n",
        "# pd.pivot_table(df_homes, index=['district'], values=['sale_price'], aggfunc=[np.sum, np.mean])\n",
        "pd.pivot_table(df_homes, index=['district', 'neighborhood'], values=['sale_price'], aggfunc=[np.sum, np.mean])\n",
        "# df_pivot = pd.pivot_table(df_homes, index=['district', 'neighborhood'], values=['sale_price'], aggfunc=[np.sum, np.mean])\n",
        "# df_pivot"
      ]
    },
    {
      "cell_type": "code",
      "execution_count": 65,
      "metadata": {
        "colab": {
          "base_uri": "https://localhost:8080/",
          "height": 17
        },
        "id": "m1VIhMiqwHAn",
        "outputId": "94381d6a-ecd1-49db-970b-dd23e3409a91"
      },
      "outputs": [
        {
          "ename": "ModuleNotFoundError",
          "evalue": "No module named 'google.colab'",
          "output_type": "error",
          "traceback": [
            "\u001b[1;31m---------------------------------------------------------------------------\u001b[0m",
            "\u001b[1;31mModuleNotFoundError\u001b[0m                       Traceback (most recent call last)",
            "\u001b[1;32mc:\\Users\\dario\\OneDrive\\Documents\\GitHub\\GB705\\Stats_Using_Python_Pandas.ipynb Cell 33\u001b[0m in \u001b[0;36m<cell line: 2>\u001b[1;34m()\u001b[0m\n\u001b[0;32m      <a href='vscode-notebook-cell:/c%3A/Users/dario/OneDrive/Documents/GitHub/GB705/Stats_Using_Python_Pandas.ipynb#X44sZmlsZQ%3D%3D?line=0'>1</a>\u001b[0m \u001b[39m# Export the pivot table to a CSV file.\u001b[39;00m\n\u001b[1;32m----> <a href='vscode-notebook-cell:/c%3A/Users/dario/OneDrive/Documents/GitHub/GB705/Stats_Using_Python_Pandas.ipynb#X44sZmlsZQ%3D%3D?line=1'>2</a>\u001b[0m \u001b[39mfrom\u001b[39;00m \u001b[39mgoogle\u001b[39;00m\u001b[39m.\u001b[39;00m\u001b[39mcolab\u001b[39;00m \u001b[39mimport\u001b[39;00m files\n\u001b[0;32m      <a href='vscode-notebook-cell:/c%3A/Users/dario/OneDrive/Documents/GitHub/GB705/Stats_Using_Python_Pandas.ipynb#X44sZmlsZQ%3D%3D?line=2'>3</a>\u001b[0m df_pivot\u001b[39m.\u001b[39mto_csv(\u001b[39m'\u001b[39m\u001b[39mprices-by-borough.csv\u001b[39m\u001b[39m'\u001b[39m) \n\u001b[0;32m      <a href='vscode-notebook-cell:/c%3A/Users/dario/OneDrive/Documents/GitHub/GB705/Stats_Using_Python_Pandas.ipynb#X44sZmlsZQ%3D%3D?line=3'>4</a>\u001b[0m files\u001b[39m.\u001b[39mdownload(\u001b[39m'\u001b[39m\u001b[39mprices-by-borough.csv\u001b[39m\u001b[39m'\u001b[39m)\n",
            "\u001b[1;31mModuleNotFoundError\u001b[0m: No module named 'google.colab'"
          ]
        }
      ],
      "source": [
        "# Export the pivot table to a CSV file.\n",
        "from google.colab import files\n",
        "df_pivot.to_csv('prices-by-borough.csv') \n",
        "files.download('prices-by-borough.csv')"
      ]
    }
  ],
  "metadata": {
    "colab": {
      "collapsed_sections": [],
      "include_colab_link": true,
      "name": "Stats Using Python - Pandas.ipynb",
      "provenance": []
    },
    "kernelspec": {
      "display_name": "Python 3.9.12 ('base')",
      "language": "python",
      "name": "python3"
    },
    "language_info": {
      "codemirror_mode": {
        "name": "ipython",
        "version": 3
      },
      "file_extension": ".py",
      "mimetype": "text/x-python",
      "name": "python",
      "nbconvert_exporter": "python",
      "pygments_lexer": "ipython3",
      "version": "3.9.12"
    },
    "vscode": {
      "interpreter": {
        "hash": "ad2bdc8ecc057115af97d19610ffacc2b4e99fae6737bb82f5d7fb13d2f2c186"
      }
    }
  },
  "nbformat": 4,
  "nbformat_minor": 0
}
