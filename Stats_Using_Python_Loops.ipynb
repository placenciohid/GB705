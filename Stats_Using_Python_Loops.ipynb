{
  "cells": [
    {
      "cell_type": "markdown",
      "metadata": {
        "colab_type": "text",
        "id": "view-in-github"
      },
      "source": [
        "<a href=\"https://colab.research.google.com/github/placenciohid/GB705/blob/main/Stats_Using_Python_Loops.ipynb\" target=\"_parent\"><img src=\"https://colab.research.google.com/assets/colab-badge.svg\" alt=\"Open In Colab\"/></a>"
      ]
    },
    {
      "cell_type": "markdown",
      "metadata": {
        "id": "nDFG4D1j9uFM"
      },
      "source": [
        "## Python - Loops\n",
        "\n",
        "*   A \"for\" loop iterates over a sequence.\n",
        "*   A \"while\" loop iterates while a boolean condition is met."
      ]
    },
    {
      "cell_type": "code",
      "execution_count": 1,
      "metadata": {
        "id": "j6dNro6w9qI4"
      },
      "outputs": [
        {
          "name": "stdout",
          "output_type": "stream",
          "text": [
            "Company A\n",
            "Company B\n",
            "Company C\n"
          ]
        }
      ],
      "source": [
        "# Loop for each string in a list.\n",
        "\n",
        "suppliers = [\"Company A\", \"Company B\", \"Company C\"]\n",
        "\n",
        "for x in suppliers:\n",
        "  print(x)"
      ]
    },
    {
      "cell_type": "code",
      "execution_count": 2,
      "metadata": {
        "id": "CoiRHvrSu0A3"
      },
      "outputs": [
        {
          "name": "stdout",
          "output_type": "stream",
          "text": [
            "0\n",
            "1\n",
            "2\n",
            "3\n",
            "4\n",
            "5\n"
          ]
        }
      ],
      "source": [
        "# Loop for each number in a range.\n",
        "\n",
        "for x in range(6):\n",
        "  print(x)"
      ]
    },
    {
      "cell_type": "code",
      "execution_count": 3,
      "metadata": {
        "id": "EJ_uA8WP-LbL"
      },
      "outputs": [
        {
          "name": "stdout",
          "output_type": "stream",
          "text": [
            "2\n",
            "4\n",
            "6\n",
            "8\n",
            "10\n",
            "12\n",
            "14\n",
            "16\n",
            "18\n"
          ]
        }
      ],
      "source": [
        "# Loop for each number in a range -- increment by 2.\n",
        "\n",
        "for x in range(2, 20, 2):\n",
        "  print(x)"
      ]
    },
    {
      "cell_type": "code",
      "execution_count": 4,
      "metadata": {
        "id": "--TZLJdd-yK7"
      },
      "outputs": [
        {
          "name": "stdout",
          "output_type": "stream",
          "text": [
            "0\n",
            "1\n",
            "2\n",
            "4\n",
            "5\n",
            "6\n"
          ]
        }
      ],
      "source": [
        "# Loop for each number in a range -- use continue and break.\n",
        "\n",
        "for x in range(10):\n",
        "  if x == 3: continue\n",
        "  if x == 7: break\n",
        "  print(x)"
      ]
    },
    {
      "cell_type": "code",
      "execution_count": 5,
      "metadata": {
        "id": "1xphQ3DTAE1j"
      },
      "outputs": [
        {
          "name": "stdout",
          "output_type": "stream",
          "text": [
            "0\n",
            "1\n",
            "2\n",
            "3\n",
            "4\n",
            "no more items\n"
          ]
        }
      ],
      "source": [
        "# Loop for each number in a range -- include an else.\n",
        "\n",
        "for x in range(5):\n",
        "  print(x)\n",
        "else:\n",
        "  print(\"no more items\")"
      ]
    },
    {
      "cell_type": "code",
      "execution_count": 6,
      "metadata": {
        "id": "x7OjE64GDy2s"
      },
      "outputs": [
        {
          "name": "stdout",
          "output_type": "stream",
          "text": [
            "1\n",
            "2\n",
            "3\n",
            "4\n",
            "5\n"
          ]
        }
      ],
      "source": [
        "# Loop while a count is less than 6.\n",
        "\n",
        "count = 1\n",
        "\n",
        "while count < 6:\n",
        "  print(count)\n",
        "  count = count + 1\n",
        "  # count += 1"
      ]
    },
    {
      "cell_type": "code",
      "execution_count": 7,
      "metadata": {},
      "outputs": [
        {
          "name": "stdout",
          "output_type": "stream",
          "text": [
            "Small Business\n",
            "Small Business\n",
            "Small Business\n",
            "Small Business\n",
            "Small Business\n",
            "Large Business\n"
          ]
        }
      ],
      "source": [
        "num_employees = 245\n",
        "\n",
        "while num_employees < 250:\n",
        "    print(\"Small Business\")\n",
        "    num_employees = num_employees +1\n",
        "else:\n",
        "    print(\"Large Business\")    "
      ]
    },
    {
      "cell_type": "code",
      "execution_count": 10,
      "metadata": {},
      "outputs": [
        {
          "name": "stdout",
          "output_type": "stream",
          "text": [
            "Orriginal Salary:  38000\n",
            "Modified Salary:  43700\n",
            "Original Salary:  52000\n",
            "Modified Salary:  57200\n",
            "Original Salary:  65000\n",
            "Modified Salary:  71500\n",
            "Original Salary:  72000\n",
            "Modified Salary:  79200\n"
          ]
        }
      ],
      "source": [
        "salaries = [38000, 52000, 65000, 72000]\n",
        "\n",
        "for salary in salaries:\n",
        "    if salary < 50000:\n",
        "        print(\"Orriginal Salary: \", salary)\n",
        "        print(\"Modified Salary: \", round(salary * 1.15))\n",
        "    else:\n",
        "        print(\"Original Salary: \", salary)\n",
        "        print(\"Modified Salary: \", round(salary * 1.10))\n"
      ]
    }
  ],
  "metadata": {
    "colab": {
      "include_colab_link": true,
      "name": "Stats Using Python - Loops.ipynb",
      "provenance": []
    },
    "kernelspec": {
      "display_name": "Python 3.10.5 64-bit",
      "language": "python",
      "name": "python3"
    },
    "language_info": {
      "codemirror_mode": {
        "name": "ipython",
        "version": 3
      },
      "file_extension": ".py",
      "mimetype": "text/x-python",
      "name": "python",
      "nbconvert_exporter": "python",
      "pygments_lexer": "ipython3",
      "version": "3.10.5"
    },
    "vscode": {
      "interpreter": {
        "hash": "75c7325c0caecc2d82c8a4e534cbb5ce82d278e087a13a7861173b66f0f67f74"
      }
    }
  },
  "nbformat": 4,
  "nbformat_minor": 0
}
