{
  "nbformat": 4,
  "nbformat_minor": 0,
  "metadata": {
    "colab": {
      "name": "Stats Using Python - Loops.ipynb",
      "provenance": [],
      "include_colab_link": true
    },
    "kernelspec": {
      "name": "python3",
      "display_name": "Python 3"
    },
    "language_info": {
      "name": "python"
    }
  },
  "cells": [
    {
      "cell_type": "markdown",
      "metadata": {
        "id": "view-in-github",
        "colab_type": "text"
      },
      "source": [
        "<a href=\"https://colab.research.google.com/github/placenciohid/GB705/blob/main/Stats_Using_Python_Loops.ipynb\" target=\"_parent\"><img src=\"https://colab.research.google.com/assets/colab-badge.svg\" alt=\"Open In Colab\"/></a>"
      ]
    },
    {
      "cell_type": "markdown",
      "source": [
        "## Python - Loops\n",
        "\n",
        "*   A \"for\" loop iterates over a sequence.\n",
        "*   A \"while\" loop iterates while a boolean condition is met."
      ],
      "metadata": {
        "id": "nDFG4D1j9uFM"
      }
    },
    {
      "cell_type": "code",
      "execution_count": null,
      "metadata": {
        "id": "j6dNro6w9qI4"
      },
      "outputs": [],
      "source": [
        "# Loop for each string in a list.\n",
        "\n",
        "suppliers = [\"Company A\", \"Company B\", \"Company C\"]\n",
        "\n",
        "for x in suppliers:\n",
        "  print(x)"
      ]
    },
    {
      "cell_type": "code",
      "source": [
        "# Loop for each number in a range.\n",
        "\n",
        "for x in range(6):\n",
        "  print(x)"
      ],
      "metadata": {
        "id": "CoiRHvrSu0A3"
      },
      "execution_count": null,
      "outputs": []
    },
    {
      "cell_type": "code",
      "source": [
        "# Loop for each number in a range -- increment by 2.\n",
        "\n",
        "for x in range(2, 20, 2):\n",
        "  print(x)"
      ],
      "metadata": {
        "id": "EJ_uA8WP-LbL"
      },
      "execution_count": null,
      "outputs": []
    },
    {
      "cell_type": "code",
      "source": [
        "# Loop for each number in a range -- use continue and break.\n",
        "\n",
        "for x in range(10):\n",
        "  if x == 3: continue\n",
        "  if x == 7: break\n",
        "  print(x)"
      ],
      "metadata": {
        "id": "--TZLJdd-yK7"
      },
      "execution_count": null,
      "outputs": []
    },
    {
      "cell_type": "code",
      "source": [
        "# Loop for each number in a range -- include an else.\n",
        "\n",
        "for x in range(5):\n",
        "  print(x)\n",
        "else:\n",
        "  print(\"no more items\")"
      ],
      "metadata": {
        "id": "1xphQ3DTAE1j"
      },
      "execution_count": null,
      "outputs": []
    },
    {
      "cell_type": "code",
      "source": [
        "# Loop while a count is less than 6.\n",
        "\n",
        "count = 1\n",
        "\n",
        "while count < 6:\n",
        "  print(count)\n",
        "  count = count + 1\n",
        "  # count += 1"
      ],
      "metadata": {
        "id": "x7OjE64GDy2s"
      },
      "execution_count": null,
      "outputs": []
    }
  ]
}