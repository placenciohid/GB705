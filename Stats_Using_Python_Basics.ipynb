{
  "nbformat": 4,
  "nbformat_minor": 0,
  "metadata": {
    "colab": {
      "name": "Stats Using Python - Basics.ipynb",
      "provenance": [],
      "include_colab_link": true
    },
    "kernelspec": {
      "name": "python3",
      "display_name": "Python 3"
    },
    "language_info": {
      "name": "python"
    }
  },
  "cells": [
    {
      "cell_type": "markdown",
      "metadata": {
        "id": "view-in-github",
        "colab_type": "text"
      },
      "source": [
        "<a href=\"https://colab.research.google.com/github/placenciohid/GB705/blob/main/Stats_Using_Python_Basics.ipynb\" target=\"_parent\"><img src=\"https://colab.research.google.com/assets/colab-badge.svg\" alt=\"Open In Colab\"/></a>"
      ]
    },
    {
      "cell_type": "markdown",
      "source": [
        "# Python Basics\n",
        "\n",
        "This cell is \"markdown\" in a Jupyter notebook."
      ],
      "metadata": {
        "id": "WW0KZStIPlEY"
      }
    },
    {
      "cell_type": "code",
      "source": [
        "# This is a comment in Python."
      ],
      "metadata": {
        "id": "boIKStIVLVJ2"
      },
      "execution_count": null,
      "outputs": []
    },
    {
      "cell_type": "code",
      "execution_count": null,
      "metadata": {
        "id": "h5xKq9ADLRWJ"
      },
      "outputs": [],
      "source": [
        "# Build our first program.\n",
        "print(\"Hello, World!\")"
      ]
    },
    {
      "cell_type": "code",
      "source": [
        "# Create new variables.\n",
        "x = 354\n",
        "y = \"customers\"\n",
        "\n",
        "# Print a variable.\n",
        "print(x)\n",
        "print(x, y)\n",
        "\n",
        "# print(x + y) will generate an error.  (Different types.)"
      ],
      "metadata": {
        "id": "ca9uPx_8LlWs"
      },
      "execution_count": null,
      "outputs": []
    },
    {
      "cell_type": "code",
      "source": [
        "# Demonstrate common data types.\n",
        "a = \"butterbeer\"                    # string\n",
        "b = 5                               # integer\n",
        "c = 5.5                             # float\n",
        "d = [\"harry\", \"ron\", \"voldemort\"]   # list\n",
        "e = {\"name\" : \"harry\", \"age\" : 15}  # dictionary\n",
        "f = True                            # boolean"
      ],
      "metadata": {
        "id": "a9LcJhm8PygB"
      },
      "execution_count": null,
      "outputs": []
    },
    {
      "cell_type": "code",
      "source": [
        "# Specify data types, if desired.\n",
        "x = int(15)  # x is an integer (15)\n",
        "y = str(15)  # x is a string (\"15\")\n",
        "\n",
        "# Check the variable type.\n",
        "print(type(x))\n",
        "print(type(y))\n",
        "\n",
        "# Variables are case-sensitive: x is not X\n",
        "# Variables are easy to read with snake case: total_customers"
      ],
      "metadata": {
        "id": "pEyhXiSxNEWn"
      },
      "execution_count": null,
      "outputs": []
    },
    {
      "cell_type": "code",
      "source": [
        "# Experiment with strings.\n",
        "z = \"spam musubi\"\n",
        "\n",
        "print(z)                      # print the string         \n",
        "print(z[1])                   # print the second character\n",
        "print(len(z))                 # print the number of characters\n",
        "print(z.upper())              # print an uppercase version\n",
        "print(z.replace(\"sp\", \"j\"))   # print and replace \"sp\" with \"j\"\n",
        "print(z.isnumeric())          # print whether z is numeric\n",
        "print(\"spam\" in z)            # print whether \"spam\" is in z"
      ],
      "metadata": {
        "id": "My-yNPuMRifl"
      },
      "execution_count": null,
      "outputs": []
    },
    {
      "cell_type": "code",
      "source": [
        "# Try different operators.\n",
        "print(10 + 5)   # addition\n",
        "print(10 - 5)   # subtraction\n",
        "print(10 * 5)   # multiplication\n",
        "print(10 / 5)   # division\n",
        "print(10 ** 5)  # exponents\n",
        "\n",
        "# Explore a few built-in math functions.\n",
        "print(min(100, 50))\n",
        "print(max(100, 50))"
      ],
      "metadata": {
        "id": "uWP_YONQVB56"
      },
      "execution_count": null,
      "outputs": []
    },
    {
      "cell_type": "code",
      "source": [
        "# Experiment with booleans and comparisons.\n",
        "print(100 >= 50)\n",
        "print(100 == 50)\n",
        "print(100 != 50)\n",
        "print(\"harry\" == \"hermoine\")"
      ],
      "metadata": {
        "id": "Xs0yvDavUhf_"
      },
      "execution_count": null,
      "outputs": []
    },
    {
      "cell_type": "code",
      "source": [
        "# Use indentation for a block of code.\n",
        "if 25 < 50:\n",
        "  print(\"true\")"
      ],
      "metadata": {
        "id": "ycVM9PvDLyGk"
      },
      "execution_count": null,
      "outputs": []
    },
    {
      "cell_type": "code",
      "source": [
        "# Import a Python library.\n",
        "import numpy as np\n",
        "\n",
        "# Use the Python library.\n",
        "numbers = np.arange(2, 7)         # Create a NumPy array.\n",
        "print(numbers)                    # Print the array."
      ],
      "metadata": {
        "id": "Yj4QKRd1XPWt"
      },
      "execution_count": null,
      "outputs": []
    }
  ]
}