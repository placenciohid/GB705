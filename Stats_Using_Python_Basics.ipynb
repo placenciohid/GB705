{
  "cells": [
    {
      "cell_type": "markdown",
      "metadata": {
        "colab_type": "text",
        "id": "view-in-github"
      },
      "source": [
        "<a href=\"https://colab.research.google.com/github/placenciohid/GB705/blob/main/Stats_Using_Python_Basics.ipynb\" target=\"_parent\"><img src=\"https://colab.research.google.com/assets/colab-badge.svg\" alt=\"Open In Colab\"/></a>"
      ]
    },
    {
      "cell_type": "markdown",
      "metadata": {
        "id": "WW0KZStIPlEY"
      },
      "source": [
        "# Python Basics\n",
        "\n",
        "This cell is \"markdown\" in a Jupyter notebook."
      ]
    },
    {
      "cell_type": "code",
      "execution_count": null,
      "metadata": {
        "id": "boIKStIVLVJ2"
      },
      "outputs": [],
      "source": [
        "# This is a comment in Python."
      ]
    },
    {
      "cell_type": "code",
      "execution_count": null,
      "metadata": {
        "id": "h5xKq9ADLRWJ"
      },
      "outputs": [],
      "source": [
        "# Build our first program.\n",
        "print(\"Hello, World!\")"
      ]
    },
    {
      "cell_type": "code",
      "execution_count": null,
      "metadata": {
        "id": "ca9uPx_8LlWs"
      },
      "outputs": [],
      "source": [
        "# Create new variables.\n",
        "x = 354\n",
        "y = \"customers\"\n",
        "\n",
        "# Print a variable.\n",
        "print(x)\n",
        "print(x, y)\n",
        "\n",
        "# print(x + y) will generate an error.  (Different types.)"
      ]
    },
    {
      "cell_type": "code",
      "execution_count": null,
      "metadata": {
        "id": "a9LcJhm8PygB"
      },
      "outputs": [],
      "source": [
        "# Demonstrate common data types.\n",
        "a = \"butterbeer\"                    # string\n",
        "b = 5                               # integer\n",
        "c = 5.5                             # float\n",
        "d = [\"harry\", \"ron\", \"voldemort\"]   # list\n",
        "e = {\"name\" : \"harry\", \"age\" : 15}  # dictionary\n",
        "f = True                            # boolean"
      ]
    },
    {
      "cell_type": "code",
      "execution_count": null,
      "metadata": {
        "id": "pEyhXiSxNEWn"
      },
      "outputs": [],
      "source": [
        "# Specify data types, if desired.\n",
        "x = int(15)  # x is an integer (15)\n",
        "y = str(15)  # x is a string (\"15\")\n",
        "\n",
        "# Check the variable type.\n",
        "print(type(x))\n",
        "print(type(y))\n",
        "\n",
        "# Variables are case-sensitive: x is not X\n",
        "# Variables are easy to read with snake case: total_customers"
      ]
    },
    {
      "cell_type": "code",
      "execution_count": null,
      "metadata": {
        "id": "My-yNPuMRifl"
      },
      "outputs": [],
      "source": [
        "# Experiment with strings.\n",
        "z = \"spam musubi\"\n",
        "\n",
        "print(z)                      # print the string         \n",
        "print(z[1])                   # print the second character # starts at 0\n",
        "print(len(z))                 # print the number of characters\n",
        "print(z.upper())              # print an uppercase version\n",
        "print(z.replace(\"sp\", \"j\"))   # print and replace \"sp\" with \"j\"\n",
        "print(z.isnumeric())          # print whether z is numeric\n",
        "print(\"spam\" in z)            # print whether \"spam\" is in z"
      ]
    },
    {
      "cell_type": "code",
      "execution_count": null,
      "metadata": {
        "id": "uWP_YONQVB56"
      },
      "outputs": [],
      "source": [
        "# Try different operators.\n",
        "print(10 + 5)   # addition\n",
        "print(10 - 5)   # subtraction\n",
        "print(10 * 5)   # multiplication\n",
        "print(10 / 5)   # division\n",
        "print(10 ** 5)  # exponents\n",
        "\n",
        "# Explore a few built-in math functions.\n",
        "print(min(100, 50))\n",
        "print(max(100, 50))"
      ]
    },
    {
      "cell_type": "code",
      "execution_count": null,
      "metadata": {
        "id": "Xs0yvDavUhf_"
      },
      "outputs": [],
      "source": [
        "# Experiment with booleans and comparisons.\n",
        "print(100 >= 50)\n",
        "print(100 == 50)\n",
        "print(100 != 50)\n",
        "print(\"harry\" == \"hermoine\")"
      ]
    },
    {
      "cell_type": "code",
      "execution_count": null,
      "metadata": {
        "id": "ycVM9PvDLyGk"
      },
      "outputs": [],
      "source": [
        "# Use indentation for a block of code.\n",
        "if 25 < 50:\n",
        "  print(\"true\")"
      ]
    },
    {
      "cell_type": "code",
      "execution_count": 7,
      "metadata": {
        "id": "Yj4QKRd1XPWt"
      },
      "outputs": [
        {
          "name": "stdout",
          "output_type": "stream",
          "text": [
            "[2 3 4 5 6]\n"
          ]
        }
      ],
      "source": [
        "# Import a Python library.\n",
        "import numpy as np\n",
        "\n",
        "# Use the Python library.\n",
        "numbers = np.arange(2, 7)         # Create a NumPy array.\n",
        "print(numbers)                    # Print the array."
      ]
    },
    {
      "cell_type": "code",
      "execution_count": 14,
      "metadata": {},
      "outputs": [],
      "source": [
        "f = 13\n",
        "g = \"maple bacon donuts\"\n",
        "\n",
        "h = g.replace(\"donuts\", \"coconuts\")\n"
      ]
    },
    {
      "cell_type": "code",
      "execution_count": 15,
      "metadata": {},
      "outputs": [
        {
          "name": "stdout",
          "output_type": "stream",
          "text": [
            "True\n"
          ]
        }
      ],
      "source": [
        "print(\"bacon\" != \"spam\")"
      ]
    }
  ],
  "metadata": {
    "colab": {
      "include_colab_link": true,
      "name": "Stats Using Python - Basics.ipynb",
      "provenance": []
    },
    "kernelspec": {
      "display_name": "Python 3.10.5 64-bit",
      "language": "python",
      "name": "python3"
    },
    "language_info": {
      "codemirror_mode": {
        "name": "ipython",
        "version": 3
      },
      "file_extension": ".py",
      "mimetype": "text/x-python",
      "name": "python",
      "nbconvert_exporter": "python",
      "pygments_lexer": "ipython3",
      "version": "3.10.5"
    },
    "vscode": {
      "interpreter": {
        "hash": "75c7325c0caecc2d82c8a4e534cbb5ce82d278e087a13a7861173b66f0f67f74"
      }
    }
  },
  "nbformat": 4,
  "nbformat_minor": 0
}
