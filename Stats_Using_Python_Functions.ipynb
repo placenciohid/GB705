{
  "nbformat": 4,
  "nbformat_minor": 0,
  "metadata": {
    "colab": {
      "name": "Stats Using Python - Functions.ipynb",
      "provenance": [],
      "include_colab_link": true
    },
    "kernelspec": {
      "name": "python3",
      "display_name": "Python 3"
    },
    "language_info": {
      "name": "python"
    }
  },
  "cells": [
    {
      "cell_type": "markdown",
      "metadata": {
        "id": "view-in-github",
        "colab_type": "text"
      },
      "source": [
        "<a href=\"https://colab.research.google.com/github/placenciohid/GB705/blob/main/Stats_Using_Python_Functions.ipynb\" target=\"_parent\"><img src=\"https://colab.research.google.com/assets/colab-badge.svg\" alt=\"Open In Colab\"/></a>"
      ]
    },
    {
      "cell_type": "markdown",
      "source": [
        "## Python - Functions\n",
        "\n",
        "*   A function is a block of reusable code.\n",
        "*   It only runs when it is called.\n",
        "*   You can pass parameters (data) into the function.\n"
      ],
      "metadata": {
        "id": "NQECgCb2KmDV"
      }
    },
    {
      "cell_type": "code",
      "source": [
        "# Create the function.\n",
        "def name_function(name):\n",
        "  print(name)\n",
        "\n",
        "# Call the function.\n",
        "name_function(\"Superman\")\n",
        "name_function(\"Batman\")"
      ],
      "metadata": {
        "id": "EfZP3neKMIT7"
      },
      "execution_count": null,
      "outputs": []
    },
    {
      "cell_type": "code",
      "source": [
        "# Create the function.\n",
        "def name_function(fname, lname):\n",
        "  print(fname + \" \" + lname)\n",
        "\n",
        "# Call the function.\n",
        "name_function(\"Wonder\", \"Woman\")\n",
        "name_function(\"Sherlock\", \"Holmes\")"
      ],
      "metadata": {
        "id": "06N3vknFQx7R"
      },
      "execution_count": null,
      "outputs": []
    },
    {
      "cell_type": "code",
      "source": [
        "# Create the function.\n",
        "def name_function(name, age):\n",
        "  print(\"Name: \", name)\n",
        "  print(\"Age:  \", age)\n",
        "\n",
        "# Call the function.\n",
        "name_function(name = \"Superman\", age = 32)\n",
        "name_function(name = \"Batman\", age = 29)"
      ],
      "metadata": {
        "id": "peQFvbMKR2TD"
      },
      "execution_count": null,
      "outputs": []
    },
    {
      "cell_type": "code",
      "source": [
        "# Create a function that calculates and returns a value.\n",
        "def click_rate(clicks, views):\n",
        "  return (clicks / views) * 100\n",
        "\n",
        "# Call the calculation (click-through rate).\n",
        "print(click_rate(275, 4324))\n",
        "print(click_rate(319, 10329))\n",
        "print(click_rate(123, 6909))"
      ],
      "metadata": {
        "id": "0uhNYCs1MbHy"
      },
      "execution_count": null,
      "outputs": []
    }
  ]
}