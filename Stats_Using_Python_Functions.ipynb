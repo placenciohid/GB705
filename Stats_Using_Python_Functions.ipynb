{
  "cells": [
    {
      "cell_type": "markdown",
      "metadata": {
        "colab_type": "text",
        "id": "view-in-github"
      },
      "source": [
        "<a href=\"https://colab.research.google.com/github/placenciohid/GB705/blob/main/Stats_Using_Python_Functions.ipynb\" target=\"_parent\"><img src=\"https://colab.research.google.com/assets/colab-badge.svg\" alt=\"Open In Colab\"/></a>"
      ]
    },
    {
      "cell_type": "markdown",
      "metadata": {
        "id": "NQECgCb2KmDV"
      },
      "source": [
        "## Python - Functions\n",
        "\n",
        "*   A function is a block of reusable code.\n",
        "*   It only runs when it is called.\n",
        "*   You can pass parameters (data) into the function.\n"
      ]
    },
    {
      "cell_type": "code",
      "execution_count": 1,
      "metadata": {
        "id": "EfZP3neKMIT7"
      },
      "outputs": [
        {
          "name": "stdout",
          "output_type": "stream",
          "text": [
            "Superman\n",
            "Batman\n"
          ]
        }
      ],
      "source": [
        "# Create the function.\n",
        "def name_function(name):\n",
        "  print(name)\n",
        "\n",
        "# Call the function.\n",
        "name_function(\"Superman\")\n",
        "name_function(\"Batman\")"
      ]
    },
    {
      "cell_type": "code",
      "execution_count": 2,
      "metadata": {
        "id": "06N3vknFQx7R"
      },
      "outputs": [
        {
          "name": "stdout",
          "output_type": "stream",
          "text": [
            "Wonder Woman\n",
            "Sherlock Holmes\n"
          ]
        }
      ],
      "source": [
        "# Create the function.\n",
        "def name_function(fname, lname):\n",
        "  print(fname + \" \" + lname)\n",
        "\n",
        "# Call the function.\n",
        "name_function(\"Wonder\", \"Woman\")\n",
        "name_function(\"Sherlock\", \"Holmes\")"
      ]
    },
    {
      "cell_type": "code",
      "execution_count": 3,
      "metadata": {
        "id": "peQFvbMKR2TD"
      },
      "outputs": [
        {
          "name": "stdout",
          "output_type": "stream",
          "text": [
            "Name:  Superman\n",
            "Age:   32\n",
            "Name:  Batman\n",
            "Age:   29\n"
          ]
        }
      ],
      "source": [
        "# Create the function.\n",
        "def name_function(name, age):\n",
        "  print(\"Name: \", name)\n",
        "  print(\"Age:  \", age)\n",
        "\n",
        "# Call the function.\n",
        "name_function(name = \"Superman\", age = 32)\n",
        "name_function(name = \"Batman\", age = 29)"
      ]
    },
    {
      "cell_type": "code",
      "execution_count": 4,
      "metadata": {
        "id": "0uhNYCs1MbHy"
      },
      "outputs": [
        {
          "name": "stdout",
          "output_type": "stream",
          "text": [
            "6.359851988899168\n",
            "3.08839190628328\n",
            "1.7802865827181935\n"
          ]
        }
      ],
      "source": [
        "# Create a function that calculates and returns a value.\n",
        "def click_rate(clicks, views):\n",
        "  return (clicks / views) * 100\n",
        "\n",
        "# Call the calculation (click-through rate).\n",
        "print(click_rate(275, 4324))\n",
        "print(click_rate(319, 10329))\n",
        "print(click_rate(123, 6909))"
      ]
    },
    {
      "cell_type": "code",
      "execution_count": 7,
      "metadata": {},
      "outputs": [
        {
          "data": {
            "text/plain": [
              "4"
            ]
          },
          "execution_count": 7,
          "metadata": {},
          "output_type": "execute_result"
        }
      ],
      "source": [
        "def squared(x):\n",
        "    return(x*x)\n",
        "\n",
        "squared(2)"
      ]
    },
    {
      "cell_type": "code",
      "execution_count": 9,
      "metadata": {},
      "outputs": [
        {
          "name": "stdout",
          "output_type": "stream",
          "text": [
            "Hello Wordl!\n"
          ]
        }
      ],
      "source": [
        "def new_function(greeting):\n",
        "    print(greeting)\n",
        "\n",
        "new_function(\"Hello Wordl!\")"
      ]
    },
    {
      "cell_type": "code",
      "execution_count": 13,
      "metadata": {},
      "outputs": [
        {
          "data": {
            "text/plain": [
              "0.9042033235581622"
            ]
          },
          "execution_count": 13,
          "metadata": {},
          "output_type": "execute_result"
        }
      ],
      "source": [
        "def perfect_order_index(correct_orders, total_orders):\n",
        "    if total_orders >= 1000:\n",
        "        return correct_orders / total_orders\n",
        "    else:\n",
        "        print(\"there were too fee order this week.\")\n",
        "\n",
        "perfect_order_index(925, 1023)"
      ]
    }
  ],
  "metadata": {
    "colab": {
      "include_colab_link": true,
      "name": "Stats Using Python - Functions.ipynb",
      "provenance": []
    },
    "kernelspec": {
      "display_name": "Python 3.10.5 64-bit",
      "language": "python",
      "name": "python3"
    },
    "language_info": {
      "codemirror_mode": {
        "name": "ipython",
        "version": 3
      },
      "file_extension": ".py",
      "mimetype": "text/x-python",
      "name": "python",
      "nbconvert_exporter": "python",
      "pygments_lexer": "ipython3",
      "version": "3.10.5"
    },
    "vscode": {
      "interpreter": {
        "hash": "75c7325c0caecc2d82c8a4e534cbb5ce82d278e087a13a7861173b66f0f67f74"
      }
    }
  },
  "nbformat": 4,
  "nbformat_minor": 0
}
